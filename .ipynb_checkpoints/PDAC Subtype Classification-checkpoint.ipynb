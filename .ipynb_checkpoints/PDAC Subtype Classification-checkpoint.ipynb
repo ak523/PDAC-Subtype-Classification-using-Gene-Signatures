{
 "cells": [
  {
   "cell_type": "markdown",
   "id": "27665616",
   "metadata": {},
   "source": [
    "# PDAC Subtype Classification"
   ]
  },
  {
   "cell_type": "markdown",
   "id": "9de34832",
   "metadata": {},
   "source": [
    "Dataset: GSE71729\n",
    "\n",
    "Goal: The goal is to use the gene expression data from these samples to predict different subtypes of PDAC.\n",
    "\n",
    "The follwoing 4 tasks that needs to be accomplished:\n",
    "\n",
    "1. Predict Cancer Subtypes Based on Gene Signatures: In this task, we used the gene expression data from the PDAC primary samples to predict cancer subtypes.\n",
    "\n",
    "Objective: Build a machine learning model that can classify PDAC samples into their respective subtypes based on gene expression patterns.\n",
    "\n",
    "2. Identify Top N Most Important Genes: In this task, you need to identify the most important genes that help distinguish between the different PDAC subtypes. Feature selection techniques like Random Forest feature importance can be used to identify the most relevant genes.\n",
    "\n",
    "Objective: Select the top N genes (e.g., top 10, top 20) based on their importance scores.\n",
    "\n",
    "3. Build Models Using Only Important Features\n",
    "\n",
    "Objective: To simplify the model by reducing the number of features and to evaluate how well it performs with a smaller, more focused set of features.\n",
    "\n",
    "4. Compare the Performance and Stability of Two Prediction Models: compare the performance and stability of two machine learning algorithms\n",
    "\n",
    "Objective: Compare these models in terms of accuracy, precision, recall, F1 score, and potentially other metrics. Also, assess their stability, meaning how consistently they perform across different random splits of the data."
   ]
  },
  {
   "cell_type": "code",
   "execution_count": 1,
   "id": "0104c4bf",
   "metadata": {},
   "outputs": [],
   "source": [
    "# Import libraries\n",
    "import pandas as pd\n",
    "import numpy as np\n",
    "from sklearn.ensemble import RandomForestClassifier\n",
    "from sklearn.metrics import accuracy_score, classification_report, confusion_matrix\n",
    "from sklearn.model_selection import train_test_split, cross_val_score\n",
    "import matplotlib.pyplot as plt\n",
    "import seaborn as sns"
   ]
  },
  {
   "cell_type": "code",
   "execution_count": 2,
   "id": "fdccf100",
   "metadata": {},
   "outputs": [],
   "source": [
    "# Load gene expression data\n",
    "gene_expression_data = pd.read_csv(r'C:\\Users\\Disha\\TU Braunschweig\\Python Lab\\Project\\GSE71729_PData.csv')\n",
    "metadata = pd.read_csv(r'C:\\Users\\Disha\\TU Braunschweig\\Python Lab\\Project\\GSE71729_phenotype_primary.csv')\n",
    "gene_list_data = pd.read_csv(r'C:\\Users\\Disha\\TU Braunschweig\\Python Lab\\Project\\moffitt_signitures.csv')  "
   ]
  },
  {
   "cell_type": "code",
   "execution_count": 3,
   "id": "9b493148",
   "metadata": {},
   "outputs": [],
   "source": [
    "# Preprocessing\n",
    "# Filter metadata to keep only primary samples\n",
    "filtered_metadata = metadata[metadata['tissue type:ch2'] == 'Primary']"
   ]
  },
  {
   "cell_type": "code",
   "execution_count": 4,
   "id": "718b9825",
   "metadata": {},
   "outputs": [],
   "source": [
    "# Align gene expression data with filtered metadata\n",
    "sample_ids = filtered_metadata['geo_accession'].values\n",
    "gene_expression_data_filtered = gene_expression_data[['ID'] + list(sample_ids)]\n",
    "gene_expression_data_filtered.set_index('ID', inplace=True)"
   ]
  },
  {
   "cell_type": "code",
   "execution_count": 5,
   "id": "65c66093",
   "metadata": {},
   "outputs": [],
   "source": [
    "# Filter gene expression data to include only genes in gene_list_data\n",
    "if not gene_list_data.empty:\n",
    "    genes_of_interest = gene_list_data['gene'].values\n",
    "    gene_expression_data_filtered = gene_expression_data_filtered.loc[gene_expression_data_filtered.index.intersection(genes_of_interest)]"
   ]
  },
  {
   "cell_type": "code",
   "execution_count": 6,
   "id": "1783e2b7",
   "metadata": {},
   "outputs": [],
   "source": [
    "# Extract labels (target variable)\n",
    "target_labels = filtered_metadata['tumor_subtype_0na_1classical_2basal:ch2'].astype(int).values"
   ]
  },
  {
   "cell_type": "code",
   "execution_count": 7,
   "id": "e5d7ea55",
   "metadata": {},
   "outputs": [],
   "source": [
    "# Predict Cancer Subtypes\n",
    "X = gene_expression_data_filtered.T  # Transpose to align samples (rows) with features (columns)\n",
    "y = target_labels"
   ]
  },
  {
   "cell_type": "code",
   "execution_count": 8,
   "id": "bd64daa6",
   "metadata": {},
   "outputs": [],
   "source": [
    "# Split data into train-test sets\n",
    "X_train, X_test, y_train, y_test = train_test_split(X, y, test_size=0.2, random_state=42)"
   ]
  },
  {
   "cell_type": "markdown",
   "id": "47d53363",
   "metadata": {},
   "source": [
    "# Using Random Forest"
   ]
  },
  {
   "cell_type": "code",
   "execution_count": 9,
   "id": "c7732b50",
   "metadata": {},
   "outputs": [
    {
     "data": {
      "text/html": [
       "<style>#sk-container-id-1 {color: black;}#sk-container-id-1 pre{padding: 0;}#sk-container-id-1 div.sk-toggleable {background-color: white;}#sk-container-id-1 label.sk-toggleable__label {cursor: pointer;display: block;width: 100%;margin-bottom: 0;padding: 0.3em;box-sizing: border-box;text-align: center;}#sk-container-id-1 label.sk-toggleable__label-arrow:before {content: \"▸\";float: left;margin-right: 0.25em;color: #696969;}#sk-container-id-1 label.sk-toggleable__label-arrow:hover:before {color: black;}#sk-container-id-1 div.sk-estimator:hover label.sk-toggleable__label-arrow:before {color: black;}#sk-container-id-1 div.sk-toggleable__content {max-height: 0;max-width: 0;overflow: hidden;text-align: left;background-color: #f0f8ff;}#sk-container-id-1 div.sk-toggleable__content pre {margin: 0.2em;color: black;border-radius: 0.25em;background-color: #f0f8ff;}#sk-container-id-1 input.sk-toggleable__control:checked~div.sk-toggleable__content {max-height: 200px;max-width: 100%;overflow: auto;}#sk-container-id-1 input.sk-toggleable__control:checked~label.sk-toggleable__label-arrow:before {content: \"▾\";}#sk-container-id-1 div.sk-estimator input.sk-toggleable__control:checked~label.sk-toggleable__label {background-color: #d4ebff;}#sk-container-id-1 div.sk-label input.sk-toggleable__control:checked~label.sk-toggleable__label {background-color: #d4ebff;}#sk-container-id-1 input.sk-hidden--visually {border: 0;clip: rect(1px 1px 1px 1px);clip: rect(1px, 1px, 1px, 1px);height: 1px;margin: -1px;overflow: hidden;padding: 0;position: absolute;width: 1px;}#sk-container-id-1 div.sk-estimator {font-family: monospace;background-color: #f0f8ff;border: 1px dotted black;border-radius: 0.25em;box-sizing: border-box;margin-bottom: 0.5em;}#sk-container-id-1 div.sk-estimator:hover {background-color: #d4ebff;}#sk-container-id-1 div.sk-parallel-item::after {content: \"\";width: 100%;border-bottom: 1px solid gray;flex-grow: 1;}#sk-container-id-1 div.sk-label:hover label.sk-toggleable__label {background-color: #d4ebff;}#sk-container-id-1 div.sk-serial::before {content: \"\";position: absolute;border-left: 1px solid gray;box-sizing: border-box;top: 0;bottom: 0;left: 50%;z-index: 0;}#sk-container-id-1 div.sk-serial {display: flex;flex-direction: column;align-items: center;background-color: white;padding-right: 0.2em;padding-left: 0.2em;position: relative;}#sk-container-id-1 div.sk-item {position: relative;z-index: 1;}#sk-container-id-1 div.sk-parallel {display: flex;align-items: stretch;justify-content: center;background-color: white;position: relative;}#sk-container-id-1 div.sk-item::before, #sk-container-id-1 div.sk-parallel-item::before {content: \"\";position: absolute;border-left: 1px solid gray;box-sizing: border-box;top: 0;bottom: 0;left: 50%;z-index: -1;}#sk-container-id-1 div.sk-parallel-item {display: flex;flex-direction: column;z-index: 1;position: relative;background-color: white;}#sk-container-id-1 div.sk-parallel-item:first-child::after {align-self: flex-end;width: 50%;}#sk-container-id-1 div.sk-parallel-item:last-child::after {align-self: flex-start;width: 50%;}#sk-container-id-1 div.sk-parallel-item:only-child::after {width: 0;}#sk-container-id-1 div.sk-dashed-wrapped {border: 1px dashed gray;margin: 0 0.4em 0.5em 0.4em;box-sizing: border-box;padding-bottom: 0.4em;background-color: white;}#sk-container-id-1 div.sk-label label {font-family: monospace;font-weight: bold;display: inline-block;line-height: 1.2em;}#sk-container-id-1 div.sk-label-container {text-align: center;}#sk-container-id-1 div.sk-container {/* jupyter's `normalize.less` sets `[hidden] { display: none; }` but bootstrap.min.css set `[hidden] { display: none !important; }` so we also need the `!important` here to be able to override the default hidden behavior on the sphinx rendered scikit-learn.org. See: https://github.com/scikit-learn/scikit-learn/issues/21755 */display: inline-block !important;position: relative;}#sk-container-id-1 div.sk-text-repr-fallback {display: none;}</style><div id=\"sk-container-id-1\" class=\"sk-top-container\"><div class=\"sk-text-repr-fallback\"><pre>RandomForestClassifier(random_state=42)</pre><b>In a Jupyter environment, please rerun this cell to show the HTML representation or trust the notebook. <br />On GitHub, the HTML representation is unable to render, please try loading this page with nbviewer.org.</b></div><div class=\"sk-container\" hidden><div class=\"sk-item\"><div class=\"sk-estimator sk-toggleable\"><input class=\"sk-toggleable__control sk-hidden--visually\" id=\"sk-estimator-id-1\" type=\"checkbox\" checked><label for=\"sk-estimator-id-1\" class=\"sk-toggleable__label sk-toggleable__label-arrow\">RandomForestClassifier</label><div class=\"sk-toggleable__content\"><pre>RandomForestClassifier(random_state=42)</pre></div></div></div></div></div>"
      ],
      "text/plain": [
       "RandomForestClassifier(random_state=42)"
      ]
     },
     "execution_count": 9,
     "metadata": {},
     "output_type": "execute_result"
    }
   ],
   "source": [
    "# Train Random Forest to predict the Cancer Subtypess based on the Gene Signature\n",
    "rf_model = RandomForestClassifier(random_state=42, n_estimators=100)\n",
    "rf_model.fit(X_train, y_train)"
   ]
  },
  {
   "cell_type": "code",
   "execution_count": 10,
   "id": "5b7ca6ff",
   "metadata": {},
   "outputs": [
    {
     "name": "stdout",
     "output_type": "stream",
     "text": [
      "Random Forest Performance (All Features):\n",
      "Accuracy: 0.8620689655172413\n",
      "              precision    recall  f1-score   support\n",
      "\n",
      "           1       0.84      1.00      0.91        21\n",
      "           2       1.00      0.50      0.67         8\n",
      "\n",
      "    accuracy                           0.86        29\n",
      "   macro avg       0.92      0.75      0.79        29\n",
      "weighted avg       0.88      0.86      0.85        29\n",
      "\n"
     ]
    }
   ],
   "source": [
    "# Evaluate the model\n",
    "y_pred = rf_model.predict(X_test)\n",
    "print(\"Random Forest Performance (All Features):\")\n",
    "print(\"Accuracy:\", accuracy_score(y_test, y_pred))\n",
    "print(classification_report(y_test, y_pred))"
   ]
  },
  {
   "cell_type": "code",
   "execution_count": 11,
   "id": "0ea6aec9",
   "metadata": {},
   "outputs": [],
   "source": [
    "# Identify Top N Important Genes\n",
    "# Feature importance\n",
    "feature_importances = rf_model.feature_importances_\n",
    "important_genes = pd.DataFrame({\n",
    "    'Gene': X.columns,\n",
    "    'Importance': feature_importances\n",
    "}).sort_values(by='Importance', ascending=False)"
   ]
  },
  {
   "cell_type": "code",
   "execution_count": 12,
   "id": "f14a4a18",
   "metadata": {},
   "outputs": [
    {
     "name": "stdout",
     "output_type": "stream",
     "text": [
      "['GPR87' 'FAM83A' 'ANXA8L2' 'S100A2' 'CDH17' 'LGALS4' 'BTNL8' 'TFF3'\n",
      " 'AGR3' 'KRT6A' 'TSPAN8' 'CLRN3' 'ANXA10' 'SCEL' 'KRT6C' 'KRT15' 'VGLL1'\n",
      " 'ATAD4' 'REG4' 'CST6']\n"
     ]
    }
   ],
   "source": [
    "# Select Top 20 important genes\n",
    "N = 20  # You can adjust N as needed\n",
    "top_genes = important_genes.head(N)['Gene'].values\n",
    "# Print the top N important genes\n",
    "print(top_genes)"
   ]
  },
  {
   "cell_type": "code",
   "execution_count": 13,
   "id": "7d3f7842",
   "metadata": {},
   "outputs": [],
   "source": [
    "# Build New Models with Only Important Features\n",
    "X_train_top = X_train[top_genes]\n",
    "X_test_top = X_test[top_genes]"
   ]
  },
  {
   "cell_type": "code",
   "execution_count": 14,
   "id": "74f966e0",
   "metadata": {},
   "outputs": [
    {
     "data": {
      "text/html": [
       "<style>#sk-container-id-2 {color: black;}#sk-container-id-2 pre{padding: 0;}#sk-container-id-2 div.sk-toggleable {background-color: white;}#sk-container-id-2 label.sk-toggleable__label {cursor: pointer;display: block;width: 100%;margin-bottom: 0;padding: 0.3em;box-sizing: border-box;text-align: center;}#sk-container-id-2 label.sk-toggleable__label-arrow:before {content: \"▸\";float: left;margin-right: 0.25em;color: #696969;}#sk-container-id-2 label.sk-toggleable__label-arrow:hover:before {color: black;}#sk-container-id-2 div.sk-estimator:hover label.sk-toggleable__label-arrow:before {color: black;}#sk-container-id-2 div.sk-toggleable__content {max-height: 0;max-width: 0;overflow: hidden;text-align: left;background-color: #f0f8ff;}#sk-container-id-2 div.sk-toggleable__content pre {margin: 0.2em;color: black;border-radius: 0.25em;background-color: #f0f8ff;}#sk-container-id-2 input.sk-toggleable__control:checked~div.sk-toggleable__content {max-height: 200px;max-width: 100%;overflow: auto;}#sk-container-id-2 input.sk-toggleable__control:checked~label.sk-toggleable__label-arrow:before {content: \"▾\";}#sk-container-id-2 div.sk-estimator input.sk-toggleable__control:checked~label.sk-toggleable__label {background-color: #d4ebff;}#sk-container-id-2 div.sk-label input.sk-toggleable__control:checked~label.sk-toggleable__label {background-color: #d4ebff;}#sk-container-id-2 input.sk-hidden--visually {border: 0;clip: rect(1px 1px 1px 1px);clip: rect(1px, 1px, 1px, 1px);height: 1px;margin: -1px;overflow: hidden;padding: 0;position: absolute;width: 1px;}#sk-container-id-2 div.sk-estimator {font-family: monospace;background-color: #f0f8ff;border: 1px dotted black;border-radius: 0.25em;box-sizing: border-box;margin-bottom: 0.5em;}#sk-container-id-2 div.sk-estimator:hover {background-color: #d4ebff;}#sk-container-id-2 div.sk-parallel-item::after {content: \"\";width: 100%;border-bottom: 1px solid gray;flex-grow: 1;}#sk-container-id-2 div.sk-label:hover label.sk-toggleable__label {background-color: #d4ebff;}#sk-container-id-2 div.sk-serial::before {content: \"\";position: absolute;border-left: 1px solid gray;box-sizing: border-box;top: 0;bottom: 0;left: 50%;z-index: 0;}#sk-container-id-2 div.sk-serial {display: flex;flex-direction: column;align-items: center;background-color: white;padding-right: 0.2em;padding-left: 0.2em;position: relative;}#sk-container-id-2 div.sk-item {position: relative;z-index: 1;}#sk-container-id-2 div.sk-parallel {display: flex;align-items: stretch;justify-content: center;background-color: white;position: relative;}#sk-container-id-2 div.sk-item::before, #sk-container-id-2 div.sk-parallel-item::before {content: \"\";position: absolute;border-left: 1px solid gray;box-sizing: border-box;top: 0;bottom: 0;left: 50%;z-index: -1;}#sk-container-id-2 div.sk-parallel-item {display: flex;flex-direction: column;z-index: 1;position: relative;background-color: white;}#sk-container-id-2 div.sk-parallel-item:first-child::after {align-self: flex-end;width: 50%;}#sk-container-id-2 div.sk-parallel-item:last-child::after {align-self: flex-start;width: 50%;}#sk-container-id-2 div.sk-parallel-item:only-child::after {width: 0;}#sk-container-id-2 div.sk-dashed-wrapped {border: 1px dashed gray;margin: 0 0.4em 0.5em 0.4em;box-sizing: border-box;padding-bottom: 0.4em;background-color: white;}#sk-container-id-2 div.sk-label label {font-family: monospace;font-weight: bold;display: inline-block;line-height: 1.2em;}#sk-container-id-2 div.sk-label-container {text-align: center;}#sk-container-id-2 div.sk-container {/* jupyter's `normalize.less` sets `[hidden] { display: none; }` but bootstrap.min.css set `[hidden] { display: none !important; }` so we also need the `!important` here to be able to override the default hidden behavior on the sphinx rendered scikit-learn.org. See: https://github.com/scikit-learn/scikit-learn/issues/21755 */display: inline-block !important;position: relative;}#sk-container-id-2 div.sk-text-repr-fallback {display: none;}</style><div id=\"sk-container-id-2\" class=\"sk-top-container\"><div class=\"sk-text-repr-fallback\"><pre>RandomForestClassifier(random_state=42)</pre><b>In a Jupyter environment, please rerun this cell to show the HTML representation or trust the notebook. <br />On GitHub, the HTML representation is unable to render, please try loading this page with nbviewer.org.</b></div><div class=\"sk-container\" hidden><div class=\"sk-item\"><div class=\"sk-estimator sk-toggleable\"><input class=\"sk-toggleable__control sk-hidden--visually\" id=\"sk-estimator-id-2\" type=\"checkbox\" checked><label for=\"sk-estimator-id-2\" class=\"sk-toggleable__label sk-toggleable__label-arrow\">RandomForestClassifier</label><div class=\"sk-toggleable__content\"><pre>RandomForestClassifier(random_state=42)</pre></div></div></div></div></div>"
      ],
      "text/plain": [
       "RandomForestClassifier(random_state=42)"
      ]
     },
     "execution_count": 14,
     "metadata": {},
     "output_type": "execute_result"
    }
   ],
   "source": [
    "# Train Random Forest with top N genes\n",
    "rf_model_top = RandomForestClassifier(random_state=42, n_estimators=100)\n",
    "rf_model_top.fit(X_train_top, y_train)"
   ]
  },
  {
   "cell_type": "code",
   "execution_count": 15,
   "id": "c401ca2c",
   "metadata": {},
   "outputs": [
    {
     "name": "stdout",
     "output_type": "stream",
     "text": [
      "Random Forest Performance (Top N Genes):\n",
      "Accuracy: 0.896551724137931\n",
      "              precision    recall  f1-score   support\n",
      "\n",
      "           1       0.88      1.00      0.93        21\n",
      "           2       1.00      0.62      0.77         8\n",
      "\n",
      "    accuracy                           0.90        29\n",
      "   macro avg       0.94      0.81      0.85        29\n",
      "weighted avg       0.91      0.90      0.89        29\n",
      "\n"
     ]
    }
   ],
   "source": [
    "# Evaluate the new model\n",
    "y_pred_top = rf_model_top.predict(X_test_top)\n",
    "print(\"Random Forest Performance (Top N Genes):\")\n",
    "print(\"Accuracy:\", accuracy_score(y_test, y_pred_top))\n",
    "print(classification_report(y_test, y_pred_top))"
   ]
  },
  {
   "cell_type": "code",
   "execution_count": 16,
   "id": "2523849a",
   "metadata": {},
   "outputs": [
    {
     "name": "stdout",
     "output_type": "stream",
     "text": [
      "Confusion Matrix (All Features):\n",
      "[[21  0]\n",
      " [ 4  4]]\n",
      "Confusion Matrix (Top N Genes):\n",
      "[[21  0]\n",
      " [ 3  5]]\n"
     ]
    }
   ],
   "source": [
    "# Compare Models\n",
    "print(\"Confusion Matrix (All Features):\")\n",
    "print(confusion_matrix(y_test, y_pred))\n",
    "print(\"Confusion Matrix (Top N Genes):\")\n",
    "print(confusion_matrix(y_test, y_pred_top))"
   ]
  },
  {
   "cell_type": "raw",
   "id": "f5c0b17c",
   "metadata": {},
   "source": [
    "Column (Actual)           True              False\n",
    "Row (Predicted)\n",
    "Class 1 (True)      True Positives        False Positive\n",
    "Class 2 (False)     False Negative        True Negative"
   ]
  },
  {
   "cell_type": "markdown",
   "id": "5e7c34ea",
   "metadata": {},
   "source": [
    "# Using Support Vector Machine (SVM)"
   ]
  },
  {
   "cell_type": "code",
   "execution_count": 17,
   "id": "298f1f1f",
   "metadata": {},
   "outputs": [],
   "source": [
    "from sklearn.svm import SVC\n",
    "from sklearn.metrics import accuracy_score, classification_report, confusion_matrix\n",
    "from sklearn.model_selection import train_test_split"
   ]
  },
  {
   "cell_type": "code",
   "execution_count": 18,
   "id": "ab314f65",
   "metadata": {},
   "outputs": [],
   "source": [
    "# X = gene expression data (all features or top N genes)\n",
    "# y = tumor subtypes (labels)\n",
    "X_train, X_test, y_train, y_test = train_test_split(X, y, test_size=0.2, random_state=42)"
   ]
  },
  {
   "cell_type": "code",
   "execution_count": 19,
   "id": "fca8ffc5",
   "metadata": {},
   "outputs": [
    {
     "data": {
      "text/html": [
       "<style>#sk-container-id-3 {color: black;}#sk-container-id-3 pre{padding: 0;}#sk-container-id-3 div.sk-toggleable {background-color: white;}#sk-container-id-3 label.sk-toggleable__label {cursor: pointer;display: block;width: 100%;margin-bottom: 0;padding: 0.3em;box-sizing: border-box;text-align: center;}#sk-container-id-3 label.sk-toggleable__label-arrow:before {content: \"▸\";float: left;margin-right: 0.25em;color: #696969;}#sk-container-id-3 label.sk-toggleable__label-arrow:hover:before {color: black;}#sk-container-id-3 div.sk-estimator:hover label.sk-toggleable__label-arrow:before {color: black;}#sk-container-id-3 div.sk-toggleable__content {max-height: 0;max-width: 0;overflow: hidden;text-align: left;background-color: #f0f8ff;}#sk-container-id-3 div.sk-toggleable__content pre {margin: 0.2em;color: black;border-radius: 0.25em;background-color: #f0f8ff;}#sk-container-id-3 input.sk-toggleable__control:checked~div.sk-toggleable__content {max-height: 200px;max-width: 100%;overflow: auto;}#sk-container-id-3 input.sk-toggleable__control:checked~label.sk-toggleable__label-arrow:before {content: \"▾\";}#sk-container-id-3 div.sk-estimator input.sk-toggleable__control:checked~label.sk-toggleable__label {background-color: #d4ebff;}#sk-container-id-3 div.sk-label input.sk-toggleable__control:checked~label.sk-toggleable__label {background-color: #d4ebff;}#sk-container-id-3 input.sk-hidden--visually {border: 0;clip: rect(1px 1px 1px 1px);clip: rect(1px, 1px, 1px, 1px);height: 1px;margin: -1px;overflow: hidden;padding: 0;position: absolute;width: 1px;}#sk-container-id-3 div.sk-estimator {font-family: monospace;background-color: #f0f8ff;border: 1px dotted black;border-radius: 0.25em;box-sizing: border-box;margin-bottom: 0.5em;}#sk-container-id-3 div.sk-estimator:hover {background-color: #d4ebff;}#sk-container-id-3 div.sk-parallel-item::after {content: \"\";width: 100%;border-bottom: 1px solid gray;flex-grow: 1;}#sk-container-id-3 div.sk-label:hover label.sk-toggleable__label {background-color: #d4ebff;}#sk-container-id-3 div.sk-serial::before {content: \"\";position: absolute;border-left: 1px solid gray;box-sizing: border-box;top: 0;bottom: 0;left: 50%;z-index: 0;}#sk-container-id-3 div.sk-serial {display: flex;flex-direction: column;align-items: center;background-color: white;padding-right: 0.2em;padding-left: 0.2em;position: relative;}#sk-container-id-3 div.sk-item {position: relative;z-index: 1;}#sk-container-id-3 div.sk-parallel {display: flex;align-items: stretch;justify-content: center;background-color: white;position: relative;}#sk-container-id-3 div.sk-item::before, #sk-container-id-3 div.sk-parallel-item::before {content: \"\";position: absolute;border-left: 1px solid gray;box-sizing: border-box;top: 0;bottom: 0;left: 50%;z-index: -1;}#sk-container-id-3 div.sk-parallel-item {display: flex;flex-direction: column;z-index: 1;position: relative;background-color: white;}#sk-container-id-3 div.sk-parallel-item:first-child::after {align-self: flex-end;width: 50%;}#sk-container-id-3 div.sk-parallel-item:last-child::after {align-self: flex-start;width: 50%;}#sk-container-id-3 div.sk-parallel-item:only-child::after {width: 0;}#sk-container-id-3 div.sk-dashed-wrapped {border: 1px dashed gray;margin: 0 0.4em 0.5em 0.4em;box-sizing: border-box;padding-bottom: 0.4em;background-color: white;}#sk-container-id-3 div.sk-label label {font-family: monospace;font-weight: bold;display: inline-block;line-height: 1.2em;}#sk-container-id-3 div.sk-label-container {text-align: center;}#sk-container-id-3 div.sk-container {/* jupyter's `normalize.less` sets `[hidden] { display: none; }` but bootstrap.min.css set `[hidden] { display: none !important; }` so we also need the `!important` here to be able to override the default hidden behavior on the sphinx rendered scikit-learn.org. See: https://github.com/scikit-learn/scikit-learn/issues/21755 */display: inline-block !important;position: relative;}#sk-container-id-3 div.sk-text-repr-fallback {display: none;}</style><div id=\"sk-container-id-3\" class=\"sk-top-container\"><div class=\"sk-text-repr-fallback\"><pre>SVC(kernel=&#x27;linear&#x27;, probability=True, random_state=42)</pre><b>In a Jupyter environment, please rerun this cell to show the HTML representation or trust the notebook. <br />On GitHub, the HTML representation is unable to render, please try loading this page with nbviewer.org.</b></div><div class=\"sk-container\" hidden><div class=\"sk-item\"><div class=\"sk-estimator sk-toggleable\"><input class=\"sk-toggleable__control sk-hidden--visually\" id=\"sk-estimator-id-3\" type=\"checkbox\" checked><label for=\"sk-estimator-id-3\" class=\"sk-toggleable__label sk-toggleable__label-arrow\">SVC</label><div class=\"sk-toggleable__content\"><pre>SVC(kernel=&#x27;linear&#x27;, probability=True, random_state=42)</pre></div></div></div></div></div>"
      ],
      "text/plain": [
       "SVC(kernel='linear', probability=True, random_state=42)"
      ]
     },
     "execution_count": 19,
     "metadata": {},
     "output_type": "execute_result"
    }
   ],
   "source": [
    "# Step 2: Train SVM with All Features\n",
    "svm_model = SVC(kernel='linear', probability=True, random_state=42)  # Linear kernel for interpretability\n",
    "svm_model.fit(X_train, y_train)"
   ]
  },
  {
   "cell_type": "code",
   "execution_count": 20,
   "id": "1b1e3641",
   "metadata": {},
   "outputs": [
    {
     "name": "stdout",
     "output_type": "stream",
     "text": [
      "SVM Performance (All Features):\n",
      "Accuracy: 0.9310344827586207\n",
      "              precision    recall  f1-score   support\n",
      "\n",
      "           1       0.95      0.95      0.95        21\n",
      "           2       0.88      0.88      0.88         8\n",
      "\n",
      "    accuracy                           0.93        29\n",
      "   macro avg       0.91      0.91      0.91        29\n",
      "weighted avg       0.93      0.93      0.93        29\n",
      "\n"
     ]
    }
   ],
   "source": [
    "# Predict and Evaluate\n",
    "y_pred_svm = svm_model.predict(X_test)\n",
    "print(\"SVM Performance (All Features):\")\n",
    "print(\"Accuracy:\", accuracy_score(y_test, y_pred_svm))\n",
    "print(classification_report(y_test, y_pred_svm))"
   ]
  },
  {
   "cell_type": "code",
   "execution_count": 21,
   "id": "61b65ae6",
   "metadata": {},
   "outputs": [],
   "source": [
    "# Use Top N Genes identified earlier\n",
    "X_train_top = X_train[top_genes]\n",
    "X_test_top = X_test[top_genes]"
   ]
  },
  {
   "cell_type": "code",
   "execution_count": 22,
   "id": "b9449270",
   "metadata": {},
   "outputs": [
    {
     "data": {
      "text/html": [
       "<style>#sk-container-id-4 {color: black;}#sk-container-id-4 pre{padding: 0;}#sk-container-id-4 div.sk-toggleable {background-color: white;}#sk-container-id-4 label.sk-toggleable__label {cursor: pointer;display: block;width: 100%;margin-bottom: 0;padding: 0.3em;box-sizing: border-box;text-align: center;}#sk-container-id-4 label.sk-toggleable__label-arrow:before {content: \"▸\";float: left;margin-right: 0.25em;color: #696969;}#sk-container-id-4 label.sk-toggleable__label-arrow:hover:before {color: black;}#sk-container-id-4 div.sk-estimator:hover label.sk-toggleable__label-arrow:before {color: black;}#sk-container-id-4 div.sk-toggleable__content {max-height: 0;max-width: 0;overflow: hidden;text-align: left;background-color: #f0f8ff;}#sk-container-id-4 div.sk-toggleable__content pre {margin: 0.2em;color: black;border-radius: 0.25em;background-color: #f0f8ff;}#sk-container-id-4 input.sk-toggleable__control:checked~div.sk-toggleable__content {max-height: 200px;max-width: 100%;overflow: auto;}#sk-container-id-4 input.sk-toggleable__control:checked~label.sk-toggleable__label-arrow:before {content: \"▾\";}#sk-container-id-4 div.sk-estimator input.sk-toggleable__control:checked~label.sk-toggleable__label {background-color: #d4ebff;}#sk-container-id-4 div.sk-label input.sk-toggleable__control:checked~label.sk-toggleable__label {background-color: #d4ebff;}#sk-container-id-4 input.sk-hidden--visually {border: 0;clip: rect(1px 1px 1px 1px);clip: rect(1px, 1px, 1px, 1px);height: 1px;margin: -1px;overflow: hidden;padding: 0;position: absolute;width: 1px;}#sk-container-id-4 div.sk-estimator {font-family: monospace;background-color: #f0f8ff;border: 1px dotted black;border-radius: 0.25em;box-sizing: border-box;margin-bottom: 0.5em;}#sk-container-id-4 div.sk-estimator:hover {background-color: #d4ebff;}#sk-container-id-4 div.sk-parallel-item::after {content: \"\";width: 100%;border-bottom: 1px solid gray;flex-grow: 1;}#sk-container-id-4 div.sk-label:hover label.sk-toggleable__label {background-color: #d4ebff;}#sk-container-id-4 div.sk-serial::before {content: \"\";position: absolute;border-left: 1px solid gray;box-sizing: border-box;top: 0;bottom: 0;left: 50%;z-index: 0;}#sk-container-id-4 div.sk-serial {display: flex;flex-direction: column;align-items: center;background-color: white;padding-right: 0.2em;padding-left: 0.2em;position: relative;}#sk-container-id-4 div.sk-item {position: relative;z-index: 1;}#sk-container-id-4 div.sk-parallel {display: flex;align-items: stretch;justify-content: center;background-color: white;position: relative;}#sk-container-id-4 div.sk-item::before, #sk-container-id-4 div.sk-parallel-item::before {content: \"\";position: absolute;border-left: 1px solid gray;box-sizing: border-box;top: 0;bottom: 0;left: 50%;z-index: -1;}#sk-container-id-4 div.sk-parallel-item {display: flex;flex-direction: column;z-index: 1;position: relative;background-color: white;}#sk-container-id-4 div.sk-parallel-item:first-child::after {align-self: flex-end;width: 50%;}#sk-container-id-4 div.sk-parallel-item:last-child::after {align-self: flex-start;width: 50%;}#sk-container-id-4 div.sk-parallel-item:only-child::after {width: 0;}#sk-container-id-4 div.sk-dashed-wrapped {border: 1px dashed gray;margin: 0 0.4em 0.5em 0.4em;box-sizing: border-box;padding-bottom: 0.4em;background-color: white;}#sk-container-id-4 div.sk-label label {font-family: monospace;font-weight: bold;display: inline-block;line-height: 1.2em;}#sk-container-id-4 div.sk-label-container {text-align: center;}#sk-container-id-4 div.sk-container {/* jupyter's `normalize.less` sets `[hidden] { display: none; }` but bootstrap.min.css set `[hidden] { display: none !important; }` so we also need the `!important` here to be able to override the default hidden behavior on the sphinx rendered scikit-learn.org. See: https://github.com/scikit-learn/scikit-learn/issues/21755 */display: inline-block !important;position: relative;}#sk-container-id-4 div.sk-text-repr-fallback {display: none;}</style><div id=\"sk-container-id-4\" class=\"sk-top-container\"><div class=\"sk-text-repr-fallback\"><pre>SVC(kernel=&#x27;linear&#x27;, probability=True, random_state=42)</pre><b>In a Jupyter environment, please rerun this cell to show the HTML representation or trust the notebook. <br />On GitHub, the HTML representation is unable to render, please try loading this page with nbviewer.org.</b></div><div class=\"sk-container\" hidden><div class=\"sk-item\"><div class=\"sk-estimator sk-toggleable\"><input class=\"sk-toggleable__control sk-hidden--visually\" id=\"sk-estimator-id-4\" type=\"checkbox\" checked><label for=\"sk-estimator-id-4\" class=\"sk-toggleable__label sk-toggleable__label-arrow\">SVC</label><div class=\"sk-toggleable__content\"><pre>SVC(kernel=&#x27;linear&#x27;, probability=True, random_state=42)</pre></div></div></div></div></div>"
      ],
      "text/plain": [
       "SVC(kernel='linear', probability=True, random_state=42)"
      ]
     },
     "execution_count": 22,
     "metadata": {},
     "output_type": "execute_result"
    }
   ],
   "source": [
    "# Train SVM with Top N Features\n",
    "svm_model_top = SVC(kernel='linear', probability=True, random_state=42)\n",
    "svm_model_top.fit(X_train_top, y_train)"
   ]
  },
  {
   "cell_type": "code",
   "execution_count": 23,
   "id": "d21bed45",
   "metadata": {},
   "outputs": [
    {
     "name": "stdout",
     "output_type": "stream",
     "text": [
      "SVM Performance (Top N Genes):\n",
      "Accuracy: 0.896551724137931\n",
      "              precision    recall  f1-score   support\n",
      "\n",
      "           1       0.95      0.90      0.93        21\n",
      "           2       0.78      0.88      0.82         8\n",
      "\n",
      "    accuracy                           0.90        29\n",
      "   macro avg       0.86      0.89      0.88        29\n",
      "weighted avg       0.90      0.90      0.90        29\n",
      "\n"
     ]
    }
   ],
   "source": [
    "# Predict and Evaluate\n",
    "y_pred_svm_top = svm_model_top.predict(X_test_top)\n",
    "print(\"SVM Performance (Top N Genes):\")\n",
    "print(\"Accuracy:\", accuracy_score(y_test, y_pred_svm_top))\n",
    "print(classification_report(y_test, y_pred_svm_top))"
   ]
  },
  {
   "cell_type": "code",
   "execution_count": 24,
   "id": "8fcbdbb2",
   "metadata": {},
   "outputs": [
    {
     "name": "stdout",
     "output_type": "stream",
     "text": [
      "Confusion Matrix (All Features):\n",
      "[[20  1]\n",
      " [ 1  7]]\n",
      "Confusion Matrix (Top N Genes):\n",
      "[[19  2]\n",
      " [ 1  7]]\n"
     ]
    }
   ],
   "source": [
    "# Step 4: Compare Models\n",
    "print(\"Confusion Matrix (All Features):\")\n",
    "print(confusion_matrix(y_test, y_pred_svm))\n",
    "print(\"Confusion Matrix (Top N Genes):\")\n",
    "print(confusion_matrix(y_test, y_pred_svm_top))"
   ]
  },
  {
   "cell_type": "markdown",
   "id": "87616e1b",
   "metadata": {},
   "source": [
    "1. Based on Accuracy\n",
    "\n",
    "The SVM model performs better when using all features, with an accuracy of 93.10% compared to Random Forest's accuracy of 86.21%.\n",
    "When using only the top N genes, both models achieve the same accuracy of 89.66%.\n",
    "\n",
    "2. Precision, Recall and F1 Score\n",
    "\n",
    "a. Class 1\n",
    "\n",
    "SVM outperforms Random Forest in terms of precision for class 1 (classical subtype), with a precision of 0.95 compared to 0.84 for Random Forest (all features).\n",
    "\n",
    "Recall for Class 1 is perfect (1.00) for Random Forest, meaning it doesn’t miss any of the class 1 samples. SVM has a recall of 0.95, meaning it misses some class 1 samples.\n",
    "\n",
    "The F1-score for class 1 is higher for SVM when using all features (0.95) compared to Random Forest (0.91). However, when using top N genes, both models have a similar F1-score (0.93).\n",
    "\n",
    "b. Class 2\n",
    "\n",
    "Random Forest achieves perfect precision (1.00) for class 2 in both all features and top N genes, meaning it doesn't misclassify any of the class 2 samples as class 1.\n",
    "SVM has lower precision for class 2, particularly when using the top N genes (0.78).\n",
    "\n",
    "Recall for class 2 is much higher for SVM (0.88) compared to Random Forest, which has lower recall, particularly with all features (0.50).\n",
    "\n",
    "F1-score for class 2 is significantly better for SVM compared to Random Forest in both all features and top N genes, reflecting a more balanced performance.\n",
    "\n",
    "3. Confusion Matrix\n",
    "\n",
    "Random Forest shows more false negatives for class 2 (1 false negative in both all features and top N genes), meaning it misses some class 2 samples.\n",
    "\n",
    "SVM shows fewer false positives for class 2, indicating that when it predicts class 2, it's more accurate, even if it occasionally misses some samples (false negatives).\n",
    "\n",
    "4.  Stability and Generalization\n",
    "\n",
    "SVM generally performs better in terms of both precision and recall for class 1 (classical subtype), and for class 2 (basal subtype), SVM shows better recall and a more balanced F1-score.\n",
    "\n",
    "Random Forest, while showing good performance in terms of precision for class 2, is less stable in terms of recall. It struggles more with classifying class 2 correctly, especially when using all features.\n",
    "\n",
    "Final Thoughts\n",
    "\n",
    "Best Model for Class 1: SVM is clearly superior in terms of precision, recall, and F1-score for class 1, achieving near-perfect results.\n",
    "\n",
    "Best Model for Class 2: While Random Forest excels in precision for class 2, SVM is better at identifying more class 2 samples (higher recall and F1-score), which could be more important depending on the context (e.g., minimizing false negatives).\n",
    "\n",
    "Overall, SVM appears to be the better model when considering the overall balance between precision, recall, and F1-score for both classes. Random Forest may have a slight advantage in certain cases, especially with class 2 precision, but SVM provides better overall stability and performance, particularly when it comes to recall for class 2.\n",
    "\n",
    "Thus, SVM is recommended as the better model for this task."
   ]
  }
 ],
 "metadata": {
  "kernelspec": {
   "display_name": "Python 3 (ipykernel)",
   "language": "python",
   "name": "python3"
  },
  "language_info": {
   "codemirror_mode": {
    "name": "ipython",
    "version": 3
   },
   "file_extension": ".py",
   "mimetype": "text/x-python",
   "name": "python",
   "nbconvert_exporter": "python",
   "pygments_lexer": "ipython3",
   "version": "3.11.4"
  }
 },
 "nbformat": 4,
 "nbformat_minor": 5
}
