{
 "cells": [
  {
   "cell_type": "markdown",
   "metadata": {},
   "source": [
    "# PDAC Subtype Classification using Gene Signatures\n",
    "\n",
    "\n",
    "Dataset:\n",
    "\n",
    "• GSE71729(keep only PDAC primary samples)\n",
    "\n",
    "• Downloadable from the GEO website\n",
    "\n",
    "Tasks:\n",
    "\n",
    "• Predict the cancer subtypes based on the signatures\n",
    "\n",
    "• Identify top N most important genes\n",
    "\n",
    "• Build new models using only important features\n",
    "\n",
    "• Compare the performance and stability of two prediction models:\n",
    "\n",
    "• Suggested ML algorithms: Random Forest, Grand Forest, or other suitable algorithms"
   ]
  },
  {
   "cell_type": "code",
   "execution_count": 25,
   "metadata": {},
   "outputs": [],
   "source": [
    "import pandas as pd\n",
    "import numpy as np\n",
    "import matplotlib.pyplot as plt\n",
    "import seaborn as sns\n",
    "from sklearn.model_selection import train_test_split, cross_val_score, StratifiedKFold, GridSearchCV\n",
    "from sklearn.ensemble import RandomForestClassifier\n",
    "from sklearn.svm import SVC\n",
    "from sklearn.metrics import accuracy_score, classification_report, ConfusionMatrixDisplay\n",
    "from sklearn.feature_selection import SelectFromModel\n",
    "from sklearn.feature_selection import SelectKBest, f_classif\n",
    "from sklearn.feature_selection import RFE\n",
    "\n",
    "\n"
   ]
  },
  {
   "cell_type": "markdown",
   "metadata": {},
   "source": [
    "# Load data"
   ]
  },
  {
   "cell_type": "code",
   "execution_count": 4,
   "metadata": {},
   "outputs": [],
   "source": [
    "# File paths\n",
    "gene_expression_path = r\"C:\\Users\\sharm\\Desktop\\UNI\\1. Sem Python\\data provided\\gene expression.csv\"\n",
    "gene_signatures_path = r\"C:\\Users\\sharm\\Desktop\\UNI\\1. Sem Python\\data provided\\gene signatures.csv\"\n",
    "metadata_path = r\"C:\\Users\\sharm\\Desktop\\UNI\\1. Sem Python\\data provided\\metadata.csv\""
   ]
  },
  {
   "cell_type": "code",
   "execution_count": 5,
   "metadata": {},
   "outputs": [],
   "source": [
    "# Load data\n",
    "gene_expression = pd.read_csv(gene_expression_path, index_col=0)\n",
    "gene_signatures = pd.read_csv(gene_signatures_path)['gene'].tolist()\n",
    "metadata = pd.read_csv(metadata_path)"
   ]
  },
  {
   "cell_type": "markdown",
   "metadata": {},
   "source": [
    "## Preprocessing"
   ]
  },
  {
   "cell_type": "markdown",
   "metadata": {},
   "source": [
    "### check for data imbalance"
   ]
  },
  {
   "cell_type": "code",
   "execution_count": 6,
   "metadata": {},
   "outputs": [
    {
     "name": "stdout",
     "output_type": "stream",
     "text": [
      "\n",
      "Tumor Subtype Counts:\n",
      "1    103\n",
      "2     42\n",
      "Name: tumor_subtype_0na_1classical_2basal:ch2, dtype: int64\n",
      "\n",
      "Classical Tumor Count: 103\n",
      "Basal Tumor Count: 42\n",
      "\n",
      "There is a data imbalance between the classical and basal tumor types.\n"
     ]
    }
   ],
   "source": [
    "# Check for data imbalance in 'tumor_subtype_0na_1classical_2basal:ch2'\n",
    "subtype_counts = metadata['tumor_subtype_0na_1classical_2basal:ch2'].value_counts()\n",
    "\n",
    "print(\"\\nTumor Subtype Counts:\")\n",
    "print(subtype_counts)\n",
    "\n",
    "# Determine if there's an imbalance\n",
    "if len(subtype_counts) == 2:  # Ensure we have both classes present\n",
    "    classical_count = subtype_counts.get(1, 0)\n",
    "    basal_count = subtype_counts.get(2, 0)\n",
    "    \n",
    "    print(f\"\\nClassical Tumor Count: {classical_count}\")\n",
    "    print(f\"Basal Tumor Count: {basal_count}\")\n",
    "    \n",
    "    if classical_count != basal_count:\n",
    "        print(\"\\nThere is a data imbalance between the classical and basal tumor types.\")\n",
    "    else:\n",
    "        print(\"\\nThe dataset is balanced for the tumor subtypes.\")\n",
    "else:\n",
    "    print(\"\\nOne or more classes are missing in the dataset.\")"
   ]
  },
  {
   "cell_type": "code",
   "execution_count": 7,
   "metadata": {},
   "outputs": [],
   "source": [
    "filtered_gene_expression = gene_expression.loc[gene_signatures].T\n",
    "filtered_gene_expression.index.name = 'geo_accession'\n",
    "merged_data = metadata.merge(filtered_gene_expression, left_on='geo_accession', right_index=True)\n",
    "\n",
    "X = merged_data[gene_signatures]\n",
    "y = merged_data['tumor_subtype_0na_1classical_2basal:ch2']\n",
    "X_train, X_test, y_train, y_test = train_test_split(X, y, test_size=0.2, random_state=42, stratify=y)\n"
   ]
  },
  {
   "cell_type": "markdown",
   "metadata": {},
   "source": [
    "# Train model 1- Random forest"
   ]
  },
  {
   "cell_type": "markdown",
   "metadata": {},
   "source": [
    "### Cross Validation-RF"
   ]
  },
  {
   "cell_type": "code",
   "execution_count": 119,
   "metadata": {},
   "outputs": [
    {
     "name": "stdout",
     "output_type": "stream",
     "text": [
      "Initial RF Cross-Validation Accuracy: 0.88 (+/- 0.10)\n"
     ]
    }
   ],
   "source": [
    "\n",
    "rf_model_cv = RandomForestClassifier(random_state=42, n_estimators=100, class_weight='balanced')\n",
    "rf_scores = cross_val_score(rf_model_cv, X_train, y_train, cv=5)\n",
    "print(\"Initial RF Cross-Validation Accuracy: %0.2f (+/- %0.2f)\" % (rf_scores.mean(), rf_scores.std() * 2))\n"
   ]
  },
  {
   "cell_type": "markdown",
   "metadata": {},
   "source": [
    "### Hyper-parameter tuning- RF"
   ]
  },
  {
   "cell_type": "code",
   "execution_count": 120,
   "metadata": {},
   "outputs": [
    {
     "name": "stdout",
     "output_type": "stream",
     "text": [
      "Fitting 5 folds for each of 108 candidates, totalling 540 fits\n",
      "Best Parameters: {'max_depth': None, 'min_samples_leaf': 1, 'min_samples_split': 5, 'n_estimators': 200}\n",
      "Best CV Score: 0.9047101449275361\n"
     ]
    }
   ],
   "source": [
    "# Define the parameter grid for hyperparameter tuning\n",
    "param_grid = {\n",
    "    'n_estimators': [100, 200, 300],\n",
    "    'max_depth': [None, 10, 20, 30],\n",
    "    'min_samples_split': [2, 5, 10],\n",
    "    'min_samples_leaf': [1, 2, 4]\n",
    "}\n",
    "\n",
    "# Initialize GridSearchCV\n",
    "grid_search = GridSearchCV(estimator=rf_model_cv, param_grid=param_grid,\n",
    "                           cv=5, n_jobs=-1, verbose=2, scoring='accuracy')\n",
    "\n",
    "# Fit GridSearchCV\n",
    "grid_search.fit(X_train, y_train)\n",
    "\n",
    "# Display the best parameters found by GridSearchCV\n",
    "print(\"Best Parameters:\", grid_search.best_params_)\n",
    "print(\"Best CV Score:\", grid_search.best_score_)"
   ]
  },
  {
   "cell_type": "markdown",
   "metadata": {},
   "source": [
    "### train RF best model"
   ]
  },
  {
   "cell_type": "code",
   "execution_count": 121,
   "metadata": {},
   "outputs": [
    {
     "name": "stdout",
     "output_type": "stream",
     "text": [
      "Test Set Accuracy of Best Model: 0.90\n"
     ]
    }
   ],
   "source": [
    "rf_model = RandomForestClassifier(**grid_search.best_params_, random_state=42, class_weight='balanced')\n",
    "rf_model.fit(X_train, y_train)\n",
    "# Evaluate the tuned model on the test set\n",
    "test_accuracy = rf_model.score(X_test, y_test)\n",
    "print(\"Test Set Accuracy of Best Model: %0.2f\" % test_accuracy)"
   ]
  },
  {
   "cell_type": "code",
   "execution_count": 122,
   "metadata": {},
   "outputs": [
    {
     "name": "stdout",
     "output_type": "stream",
     "text": [
      "Tuned Random Forest Performance:\n",
      "Accuracy: 0.896551724137931\n",
      "              precision    recall  f1-score   support\n",
      "\n",
      "           1       0.88      1.00      0.93        21\n",
      "           2       1.00      0.62      0.77         8\n",
      "\n",
      "    accuracy                           0.90        29\n",
      "   macro avg       0.94      0.81      0.85        29\n",
      "weighted avg       0.91      0.90      0.89        29\n",
      "\n"
     ]
    }
   ],
   "source": [
    "y_pred_rf = rf_model.predict(X_test)\n",
    "print(\"Tuned Random Forest Performance:\")\n",
    "print(\"Accuracy:\", accuracy_score(y_test, y_pred_rf))\n",
    "print(classification_report(y_test, y_pred_rf))\n"
   ]
  },
  {
   "cell_type": "markdown",
   "metadata": {},
   "source": [
    "## Train model 2- Random forest with selected features"
   ]
  },
  {
   "cell_type": "code",
   "execution_count": 123,
   "metadata": {},
   "outputs": [
    {
     "name": "stdout",
     "output_type": "stream",
     "text": [
      "Feature Importances: [0.02687306 0.00692794 0.0425714  0.01043746 0.00707397 0.00602195\n",
      " 0.00894195 0.02699107 0.03606623 0.01839982 0.00306005 0.00478298\n",
      " 0.03981658 0.01462789 0.01592252 0.02648467 0.0060834  0.00331503\n",
      " 0.03175724 0.00246357 0.00930153 0.005356   0.01376012 0.0083397\n",
      " 0.02011504 0.0054992  0.00778539 0.02154192 0.00768644 0.00339785\n",
      " 0.01417761 0.00732711 0.02422016 0.01321227 0.00629443 0.01612657\n",
      " 0.00942088 0.0155079  0.01499137 0.0491688  0.01293943 0.13250615\n",
      " 0.07614846 0.00834863 0.0046249  0.00436324 0.08345514 0.01065621\n",
      " 0.01701487 0.03809388]\n"
     ]
    }
   ],
   "source": [
    "# Train Random Forest for feature importance\n",
    "rf = RandomForestClassifier(random_state=42, n_estimators=100)\n",
    "rf.fit(X_train, y_train)\n",
    "\n",
    "# Extract feature importances\n",
    "feature_importances = rf.feature_importances_\n",
    "print(\"Feature Importances:\", feature_importances)"
   ]
  },
  {
   "cell_type": "code",
   "execution_count": 124,
   "metadata": {},
   "outputs": [
    {
     "name": "stdout",
     "output_type": "stream",
     "text": [
      "Selected Features (by index): [37 14 35 48  9 24 27 32 15  0  7 18  8 49 12  2 39 42 46 41]\n"
     ]
    }
   ],
   "source": [
    "# Select the top 'n' important features\n",
    "n = 20  \n",
    "indices_of_important_features = np.argsort(feature_importances)[-n:]\n",
    "\n",
    "# Reduce the training and test sets to only the important features\n",
    "X_train_rf_top = X_train.iloc[:, indices_of_important_features]\n",
    "X_test_rf_top = X_test.iloc[:, indices_of_important_features]\n",
    "\n",
    "# Print selected features if feature names are available\n",
    "print(\"Selected Features (by index):\", indices_of_important_features)"
   ]
  },
  {
   "cell_type": "code",
   "execution_count": 125,
   "metadata": {},
   "outputs": [
    {
     "name": "stdout",
     "output_type": "stream",
     "text": [
      "Best Parameters for Random Forest: {'max_depth': 10, 'min_samples_leaf': 1, 'min_samples_split': 5, 'n_estimators': 200}\n"
     ]
    }
   ],
   "source": [
    "# Now retrain a Random Forest model with the selected features\n",
    "rf_param_grid = {\n",
    "    'n_estimators': [50, 100, 200],  # Number of trees in the forest\n",
    "    'max_depth': [10, 20],     # Maximum depth of the tree\n",
    "    'min_samples_split': [2, 5],     # Minimum number of samples required to split an internal node\n",
    "    'min_samples_leaf': [1, 2, 4],   # Minimum number of samples required to be at a leaf node\n",
    "}\n",
    "\n",
    "# Perform Grid Search with Cross-Validation\n",
    "grid_search_rf = GridSearchCV(RandomForestClassifier(random_state=42), rf_param_grid, cv=5, scoring='accuracy')\n",
    "grid_search_rf.fit(X_train_rf_top, y_train)\n",
    "\n",
    "# Best parameters from Grid Search\n",
    "best_params_rf = grid_search_rf.best_params_\n",
    "print(\"Best Parameters for Random Forest:\", best_params_rf)"
   ]
  },
  {
   "cell_type": "code",
   "execution_count": 126,
   "metadata": {},
   "outputs": [
    {
     "name": "stdout",
     "output_type": "stream",
     "text": [
      "Optimized Random Forest with Important Features Report\n",
      "              precision    recall  f1-score   support\n",
      "\n",
      "           1       0.90      0.90      0.90        21\n",
      "           2       0.75      0.75      0.75         8\n",
      "\n",
      "    accuracy                           0.86        29\n",
      "   macro avg       0.83      0.83      0.83        29\n",
      "weighted avg       0.86      0.86      0.86        29\n",
      "\n",
      "Optimized Random Forest Cross-Validation Accuracy with Selected Features: 0.9137681159420289\n"
     ]
    }
   ],
   "source": [
    "# Train the Random Forest model with the selected features using the best parameters\n",
    "rf_model_top = RandomForestClassifier(**best_params_rf, random_state=42)\n",
    "rf_model_top.fit(X_train_rf_top, y_train)\n",
    "\n",
    "# Make predictions and evaluate the optimized Random Forest model\n",
    "pred_rf_top = rf_model_top.predict(X_test_rf_top)\n",
    "print(\"Optimized Random Forest with Important Features Report\")\n",
    "print(classification_report(y_test, pred_rf_top))\n",
    "\n",
    "# Optional: Re-evaluate cross-validation accuracy with the best parameters\n",
    "cv_scores_optimized_rf = cross_val_score(rf_model_top, X_train_rf_top, y_train, cv=5, scoring='accuracy')\n",
    "print(\"Optimized Random Forest Cross-Validation Accuracy with Selected Features:\", np.mean(cv_scores_optimized_rf))"
   ]
  },
  {
   "cell_type": "code",
   "execution_count": 127,
   "metadata": {},
   "outputs": [
    {
     "name": "stdout",
     "output_type": "stream",
     "text": [
      "Random Forest Accuracy (All Features): 0.90\n",
      "Random Forest Accuracy (Selected Features): 0.86\n"
     ]
    },
    {
     "data": {
      "image/png": "[encoded data removed]",
      "text/plain": [
       "<Figure size 600x400 with 1 Axes>"
      ]
     },
     "metadata": {},
     "output_type": "display_data"
    }
   ],
   "source": [
    "# Compare accuracies before and after feature selection\n",
    "rf_accuracy = accuracy_score(y_test, y_pred_rf)\n",
    "rf_top_accuracy = accuracy_score(y_test, pred_rf_top)\n",
    "\n",
    "print(f\"Random Forest Accuracy (All Features): {rf_accuracy:.2f}\")\n",
    "print(f\"Random Forest Accuracy (Selected Features): {rf_top_accuracy:.2f}\")\n",
    "\n",
    "# Visualize comparison\n",
    "metrics = {\n",
    "    'Model': ['Random Forest', 'RF with Selected Features'],\n",
    "    'Accuracy': [rf_accuracy, rf_top_accuracy]\n",
    "}\n",
    "metrics_df = pd.DataFrame(metrics)\n",
    "\n",
    "plt.figure(figsize=(6, 4))\n",
    "sns.barplot(x='Model', y='Accuracy', data=metrics_df)\n",
    "plt.title('Model Accuracy Comparison Before and After Feature Selection')\n",
    "plt.ylim(0, 1)\n",
    "plt.show()"
   ]
  },
  {
   "cell_type": "markdown",
   "metadata": {},
   "source": [
    "# Train model 3- SVM"
   ]
  },
  {
   "cell_type": "code",
   "execution_count": 128,
   "metadata": {},
   "outputs": [
    {
     "name": "stdout",
     "output_type": "stream",
     "text": [
      "Stratified SVM Cross-Validation Accuracy: 0.94 (+/- 0.07)\n"
     ]
    }
   ],
   "source": [
    "# Create a StratifiedKFold object with the desired number of splits\n",
    "stratified_k_fold = StratifiedKFold(n_splits=5, shuffle=True, random_state=42)\n",
    "\n",
    "# Initialize the SVM Model\n",
    "svm_model = SVC(kernel='linear', probability=True, random_state=42)\n",
    "\n",
    "# Perform stratified cross-validation\n",
    "svm_scores = cross_val_score(svm_model, X_train, y_train, cv=stratified_k_fold)\n",
    "\n",
    "# Print the mean accuracy and standard deviation\n",
    "print(\"Stratified SVM Cross-Validation Accuracy: %0.2f (+/- %0.2f)\" % (svm_scores.mean(), svm_scores.std() * 2))\n"
   ]
  },
  {
   "cell_type": "code",
   "execution_count": 129,
   "metadata": {},
   "outputs": [
    {
     "name": "stdout",
     "output_type": "stream",
     "text": [
      "Best Parameters for SVM: {'C': 0.1, 'class_weight': 'balanced', 'kernel': 'linear'}\n",
      "Best Cross-Validated Score for SVM: 0.9646956964604023\n"
     ]
    }
   ],
   "source": [
    "# Define parameter grid for SVM including class_weight\n",
    "svm_param_grid = {\n",
    "    'C': [0.1, 1, 10],\n",
    "    'kernel': ['linear', 'rbf'],\n",
    "    'class_weight': [None, 'balanced']\n",
    "}\n",
    "\n",
    "# Choose a metric that handles imbalance better, e.g., 'f1' or 'roc_auc'\n",
    "svm_grid_search = GridSearchCV(SVC(probability=True, random_state=42), svm_param_grid, cv=5, scoring='f1')\n",
    "\n",
    "# Fit the grid search object\n",
    "svm_grid_search.fit(X_train, y_train)\n",
    "\n",
    "# Print results\n",
    "print(\"Best Parameters for SVM:\", svm_grid_search.best_params_)\n",
    "print(\"Best Cross-Validated Score for SVM:\", svm_grid_search.best_score_)\n"
   ]
  },
  {
   "cell_type": "code",
   "execution_count": 130,
   "metadata": {},
   "outputs": [
    {
     "data": {
      "text/plain": [
       "SVC(C=0.1, class_weight='balanced', kernel='linear')"
      ]
     },
     "execution_count": 130,
     "metadata": {},
     "output_type": "execute_result"
    }
   ],
   "source": [
    "svm_model = SVC(**svm_grid_search.best_params_)\n",
    "svm_model.fit(X_train, y_train)\n"
   ]
  },
  {
   "cell_type": "code",
   "execution_count": 131,
   "metadata": {},
   "outputs": [
    {
     "name": "stdout",
     "output_type": "stream",
     "text": [
      "Tuned SVM Performance:\n",
      "Accuracy: 1.0\n",
      "              precision    recall  f1-score   support\n",
      "\n",
      "           1       1.00      1.00      1.00        21\n",
      "           2       1.00      1.00      1.00         8\n",
      "\n",
      "    accuracy                           1.00        29\n",
      "   macro avg       1.00      1.00      1.00        29\n",
      "weighted avg       1.00      1.00      1.00        29\n",
      "\n"
     ]
    }
   ],
   "source": [
    "y_pred_svm = svm_model.predict(X_test)\n",
    "print(\"Tuned SVM Performance:\")\n",
    "print(\"Accuracy:\", accuracy_score(y_test, y_pred_svm))\n",
    "print(classification_report(y_test, y_pred_svm))\n"
   ]
  },
  {
   "cell_type": "code",
   "execution_count": 132,
   "metadata": {},
   "outputs": [
    {
     "name": "stdout",
     "output_type": "stream",
     "text": [
      "1.0\n"
     ]
    }
   ],
   "source": [
    "svm_accuracy = accuracy_score(y_test, y_pred_svm) \n",
    "print (svm_accuracy)"
   ]
  },
  {
   "cell_type": "markdown",
   "metadata": {},
   "source": [
    "## Train model 4- SVM with selected features"
   ]
  },
  {
   "cell_type": "code",
   "execution_count": 133,
   "metadata": {},
   "outputs": [
    {
     "name": "stdout",
     "output_type": "stream",
     "text": [
      "Selected Features: [False False  True  True False False False  True False False False False\n",
      "  True False  True  True  True False  True False False False False False\n",
      "  True False False False False  True False False  True False False  True\n",
      " False  True  True  True  True  True  True False False False  True  True\n",
      " False False]\n"
     ]
    }
   ],
   "source": [
    "# Fit RFE with SVM classifier\n",
    "svc = SVC(kernel=\"linear\", random_state=42)\n",
    "rfe = RFE(estimator=svc, n_features_to_select=20)  \n",
    "X_train_top_svm = rfe.fit_transform(X_train, y_train)\n",
    "\n",
    "# Select the same features in the test set\n",
    "X_test_top_svm = rfe.transform(X_test)\n",
    "\n",
    "# Optional: Check which features were selected\n",
    "selected_features = rfe.support_\n",
    "print(\"Selected Features:\", selected_features)"
   ]
  },
  {
   "cell_type": "code",
   "execution_count": 134,
   "metadata": {},
   "outputs": [
    {
     "name": "stdout",
     "output_type": "stream",
     "text": [
      "Best Parameters for SVM with selected features: {'C': 0.1, 'class_weight': 'balanced', 'kernel': 'linear'}\n",
      "Best Cross-Validated Score for SVM with Selected Features: 0.9646956964604023\n"
     ]
    }
   ],
   "source": [
    "# hyperparameter tuning and model evaluation\n",
    "svm_param_grid = {\n",
    "    'C': [0.1, 1, 10],  # Regularization parameter\n",
    "    'kernel': ['linear'],  # Using linear kernel\n",
    "    'class_weight': ['balanced']  # To handle class imbalance\n",
    "}\n",
    "\n",
    "# Perform Grid Search with Cross-Validation\n",
    "grid_search_svm = GridSearchCV(SVC(random_state=42), svm_param_grid, cv=5, scoring='accuracy')\n",
    "grid_search_svm.fit(X_train_top_svm, y_train)\n",
    "\n",
    "# Best parameters from Grid Search\n",
    "best_params = grid_search_svm.best_params_\n",
    "print(\"Best Parameters for SVM with selected features:\", best_params)\n",
    "print(\"Best Cross-Validated Score for SVM with Selected Features:\", svm_grid_search.best_score_)\n"
   ]
  },
  {
   "cell_type": "code",
   "execution_count": 135,
   "metadata": {},
   "outputs": [
    {
     "name": "stdout",
     "output_type": "stream",
     "text": [
      "SVM with Top Features Report\n",
      "              precision    recall  f1-score   support\n",
      "\n",
      "           1       1.00      1.00      1.00        21\n",
      "           2       1.00      1.00      1.00         8\n",
      "\n",
      "    accuracy                           1.00        29\n",
      "   macro avg       1.00      1.00      1.00        29\n",
      "weighted avg       1.00      1.00      1.00        29\n",
      "\n",
      "SVM Cross-Validation Accuracy with Selected Features: 0.9826086956521738\n"
     ]
    }
   ],
   "source": [
    "# Train the SVM model with selected features using the best parameters\n",
    "svm_model_top = SVC(**best_params, random_state=42)\n",
    "svm_model_top.fit(X_train_top_svm, y_train)\n",
    "\n",
    "# Make predictions and evaluate the optimized SVM model\n",
    "pred_svm_top = svm_model_top.predict(X_test_top_svm)\n",
    "print(\"SVM with Top Features Report\")\n",
    "print(classification_report(y_test, pred_svm_top))\n",
    "\n",
    "# Optional: Re-evaluate cross-validation accuracy with the best parameters\n",
    "cv_scores_optimized_svm = cross_val_score(svm_model_top, X_train_top_svm, y_train, cv=5, scoring='accuracy')\n",
    "print(\"SVM Cross-Validation Accuracy with Selected Features:\", np.mean(cv_scores_optimized_svm))"
   ]
  },
  {
   "cell_type": "markdown",
   "metadata": {},
   "source": [
    "## Accuracy score of training and testing dataset"
   ]
  },
  {
   "cell_type": "code",
   "execution_count": 136,
   "metadata": {},
   "outputs": [
    {
     "name": "stdout",
     "output_type": "stream",
     "text": [
      "Training Set Accuracy RF: 1.00\n",
      "Testing Set Accuracy RF: 0.90\n"
     ]
    }
   ],
   "source": [
    "# Predicting on the training set\n",
    "y_train_pred = rf_model.predict(X_train)\n",
    "\n",
    "# Predicting on the testing set\n",
    "y_test_pred = rf_model.predict(X_test)\n",
    "\n",
    "# Calculating accuracy for both sets\n",
    "train_accuracy = accuracy_score(y_train, y_train_pred)\n",
    "test_accuracy = accuracy_score(y_test, y_test_pred)\n",
    "\n",
    "# Printing the accuracies\n",
    "print(f\"Training Set Accuracy RF: {train_accuracy:.2f}\")\n",
    "print(f\"Testing Set Accuracy RF: {test_accuracy:.2f}\")\n"
   ]
  },
  {
   "cell_type": "code",
   "execution_count": 137,
   "metadata": {},
   "outputs": [
    {
     "name": "stdout",
     "output_type": "stream",
     "text": [
      "Training Set Accuracy RF-selected features: 1.00\n",
      "Testing Set Accuracy RF- selected features: 0.86\n"
     ]
    }
   ],
   "source": [
    "# Predicting on the training set\n",
    "y_train_pred = rf_model_top.predict(X_train_rf_top)\n",
    "\n",
    "# Predicting on the testing set\n",
    "y_test_pred = rf_model_top.predict(X_test_rf_top)\n",
    "\n",
    "# Calculating accuracy for both sets\n",
    "train_accuracy = accuracy_score(y_train, y_train_pred)\n",
    "test_accuracy = accuracy_score(y_test, y_test_pred)\n",
    "\n",
    "# Printing the accuracies\n",
    "print(f\"Training Set Accuracy RF-selected features: {train_accuracy:.2f}\")\n",
    "print(f\"Testing Set Accuracy RF- selected features: {test_accuracy:.2f}\")"
   ]
  },
  {
   "cell_type": "code",
   "execution_count": 138,
   "metadata": {},
   "outputs": [
    {
     "name": "stdout",
     "output_type": "stream",
     "text": [
      "Training Set Accuracy SVM: 1.00\n",
      "Testing Set Accuracy SVM: 1.00\n"
     ]
    }
   ],
   "source": [
    "# Predicting on the training set\n",
    "y_train_pred = svm_model.predict(X_train)\n",
    "\n",
    "# Predicting on the testing set\n",
    "y_test_pred = svm_model.predict(X_test)\n",
    "\n",
    "# Calculating accuracy for both sets\n",
    "train_accuracy = accuracy_score(y_train, y_train_pred)\n",
    "test_accuracy = accuracy_score(y_test, y_test_pred)\n",
    "\n",
    "# Printing the accuracies\n",
    "print(f\"Training Set Accuracy SVM: {train_accuracy:.2f}\")\n",
    "print(f\"Testing Set Accuracy SVM: {test_accuracy:.2f}\")"
   ]
  },
  {
   "cell_type": "code",
   "execution_count": 145,
   "metadata": {},
   "outputs": [
    {
     "name": "stdout",
     "output_type": "stream",
     "text": [
      "Training Set Accuracy: 1.00\n",
      "Test Set Accuracy: 1.00\n"
     ]
    }
   ],
   "source": [
    "# Calculate accuracy on the training set\n",
    "train_predictions = svc.predict(X_train_top_svm)\n",
    "train_accuracy = accuracy_score(y_train, train_predictions)\n",
    "print(\"Training Set Accuracy: %0.2f\" % train_accuracy)\n",
    "\n",
    "# Calculate accuracy on the test set\n",
    "test_predictions = svc.predict(X_test_top_svm)\n",
    "test_accuracy = accuracy_score(y_test, test_predictions)\n",
    "print(\"Test Set Accuracy: %0.2f\" % test_accuracy)"
   ]
  },
  {
   "cell_type": "markdown",
   "metadata": {},
   "source": [
    "# Compare metrics"
   ]
  },
  {
   "cell_type": "code",
   "execution_count": 140,
   "metadata": {},
   "outputs": [
    {
     "data": {
      "image/png": "[encoded data removed]",
      "text/plain": [
       "<Figure size 640x480 with 2 Axes>"
      ]
     },
     "metadata": {},
     "output_type": "display_data"
    },
    {
     "data": {
      "image/png": "[encoded data removed]",
      "text/plain": [
       "<Figure size 640x480 with 2 Axes>"
      ]
     },
     "metadata": {},
     "output_type": "display_data"
    },
    {
     "data": {
      "image/png": "[encoded data removed]",
      "text/plain": [
       "<Figure size 640x480 with 2 Axes>"
      ]
     },
     "metadata": {},
     "output_type": "display_data"
    },
    {
     "data": {
      "image/png": "[encoded data removed]",
      "text/plain": [
       "<Figure size 640x480 with 2 Axes>"
      ]
     },
     "metadata": {},
     "output_type": "display_data"
    }
   ],
   "source": [
    "ConfusionMatrixDisplay.from_estimator(rf_model, X_test, y_test).ax_.set_title('Random Forest Confusion Matrix')\n",
    "plt.show()\n",
    "\n",
    "ConfusionMatrixDisplay.from_estimator(rf_model_top, X_test_rf_top, y_test).ax_.set_title('Random Forest- Important features Confusion Matrix')\n",
    "plt.show()\n",
    "\n",
    "\n",
    "ConfusionMatrixDisplay.from_estimator(svm_model, X_test, y_test).ax_.set_title('SVM Confusion Matrix')\n",
    "plt.show()\n",
    "\n",
    "ConfusionMatrixDisplay.from_estimator(svm_model_top, X_test_top_svm, y_test).ax_.set_title('SVM- Important features Confusion Matrix')\n",
    "plt.show()"
   ]
  },
  {
   "cell_type": "markdown",
   "metadata": {},
   "source": [
    "# compare metrics"
   ]
  },
  {
   "cell_type": "code",
   "execution_count": 142,
   "metadata": {},
   "outputs": [
    {
     "name": "stdout",
     "output_type": "stream",
     "text": [
      "Random Forest Accuracy: 0.90\n",
      "Random Forest with Selected Features Accuracy: 0.86\n",
      "SVM Accuracy: 1.00\n",
      "SVM with Selected Features Accuracy: 1.00\n"
     ]
    },
    {
     "data": {
      "image/png": "[encoded data removed]",
      "text/plain": [
       "<Figure size 800x500 with 1 Axes>"
      ]
     },
     "metadata": {},
     "output_type": "display_data"
    }
   ],
   "source": [
    "# Compare accuracy\n",
    "rf_accuracy = accuracy_score(y_test, y_pred_rf)\n",
    "rf_top_accuracy = accuracy_score(y_test, pred_rf_top)\n",
    "svm_accuracy = accuracy_score(y_test, y_pred_svm)\n",
    "svm_top_accuracy = accuracy_score(y_test, pred_svm_top)\n",
    "\n",
    "print(f\"Random Forest Accuracy: {rf_accuracy:.2f}\")\n",
    "print(f\"Random Forest with Selected Features Accuracy: {rf_top_accuracy:.2f}\")\n",
    "print(f\"SVM Accuracy: {svm_accuracy:.2f}\")\n",
    "print(f\"SVM with Selected Features Accuracy: {svm_top_accuracy:.2f}\")\n",
    "\n",
    "# Visualize model comparison\n",
    "metrics = {'Model': ['Random Forest', 'RF Selected Features', 'SVM', 'SVM Selected Features'], 'Accuracy': [rf_accuracy, rf_top_accuracy, svm_accuracy, svm_top_accuracy]}\n",
    "metrics_df = pd.DataFrame(metrics)\n",
    "\n",
    "plt.figure(figsize=(8, 5))\n",
    "sns.barplot(x='Model', y='Accuracy', data=metrics_df)\n",
    "plt.title('Model Accuracy Comparison')\n",
    "plt.ylim(0, 1)\n",
    "plt.show()\n"
   ]
  }
 ],
 "metadata": {
  "kernelspec": {
   "display_name": "base",
   "language": "python",
   "name": "python3"
  },
  "language_info": {
   "codemirror_mode": {
    "name": "ipython",
    "version": 3
   },
   "file_extension": ".py",
   "mimetype": "text/x-python",
   "name": "python",
   "nbconvert_exporter": "python",
   "pygments_lexer": "ipython3",
   "version": "3.9.13"
  }
 },
 "nbformat": 4,
 "nbformat_minor": 2
}
