{
 "cells": [
  {
   "cell_type": "markdown",
   "metadata": {},
   "source": [
    "# PDAC Subtype Classification using Gene Signatures\n",
    "\n",
    "\n",
    "Dataset:\n",
    "\n",
    "• GSE71729(keep only PDAC primary samples)\n",
    "\n",
    "• Downloadable from the GEO website\n",
    "\n",
    "Tasks:\n",
    "\n",
    "• Predict the cancer subtypes based on the signatures\n",
    "\n",
    "• Identify top N most important genes\n",
    "\n",
    "• Build new models using only important features\n",
    "\n",
    "• Compare the performance and stability of two prediction models:\n",
    "\n",
    "• Suggested ML algorithms: Random Forest, Grand Forest, or other suitable algorithms"
   ]
  },
  {
   "cell_type": "code",
   "execution_count": 1,
   "metadata": {},
   "outputs": [
    {
     "name": "stderr",
     "output_type": "stream",
     "text": [
      "c:\\Users\\sharm\\anaconda3\\lib\\site-packages\\scipy\\__init__.py:155: UserWarning: A NumPy version >=1.18.5 and <1.25.0 is required for this version of SciPy (detected version 1.26.4\n",
      "  warnings.warn(f\"A NumPy version >={np_minversion} and <{np_maxversion}\"\n"
     ]
    }
   ],
   "source": [
    "import pandas as pd\n",
    "import numpy as np\n",
    "import matplotlib.pyplot as plt\n",
    "import seaborn as sns\n",
    "from sklearn.model_selection import train_test_split, cross_val_score, StratifiedKFold, GridSearchCV\n",
    "from sklearn.ensemble import RandomForestClassifier\n",
    "from sklearn.svm import SVC\n",
    "from sklearn.metrics import accuracy_score, classification_report, ConfusionMatrixDisplay\n",
    "from sklearn.feature_selection import SelectFromModel\n",
    "from sklearn.feature_selection import SelectKBest, f_classif\n",
    "from sklearn.feature_selection import RFE\n",
    "\n",
    "\n"
   ]
  },
  {
   "cell_type": "markdown",
   "metadata": {},
   "source": [
    "# Load data"
   ]
  },
  {
   "cell_type": "code",
   "execution_count": 2,
   "metadata": {},
   "outputs": [],
   "source": [
    "# File paths\n",
    "gene_expression_path = r\"C:\\Users\\sharm\\Desktop\\UNI\\1. Sem Python\\data provided\\gene expression.csv\"\n",
    "gene_signatures_path = r\"C:\\Users\\sharm\\Desktop\\UNI\\1. Sem Python\\data provided\\gene signatures.csv\"\n",
    "metadata_path = r\"C:\\Users\\sharm\\Desktop\\UNI\\1. Sem Python\\data provided\\metadata.csv\""
   ]
  },
  {
   "cell_type": "code",
   "execution_count": 3,
   "metadata": {},
   "outputs": [],
   "source": [
    "# Load data\n",
    "gene_expression = pd.read_csv(gene_expression_path, index_col=0)\n",
    "gene_signatures = pd.read_csv(gene_signatures_path)['gene'].tolist()\n",
    "metadata = pd.read_csv(metadata_path)"
   ]
  },
  {
   "cell_type": "markdown",
   "metadata": {},
   "source": [
    "## Preprocessing"
   ]
  },
  {
   "cell_type": "markdown",
   "metadata": {},
   "source": [
    "### check for data imbalance"
   ]
  },
  {
   "cell_type": "code",
   "execution_count": 4,
   "metadata": {},
   "outputs": [
    {
     "name": "stdout",
     "output_type": "stream",
     "text": [
      "\n",
      "Tumor Subtype Counts:\n",
      "1    103\n",
      "2     42\n",
      "Name: tumor_subtype_0na_1classical_2basal:ch2, dtype: int64\n",
      "\n",
      "Classical Tumor Count: 103\n",
      "Basal Tumor Count: 42\n",
      "\n",
      "There is a data imbalance between the classical and basal tumor types.\n"
     ]
    }
   ],
   "source": [
    "# Check for data imbalance in 'tumor_subtype_0na_1classical_2basal:ch2'\n",
    "subtype_counts = metadata['tumor_subtype_0na_1classical_2basal:ch2'].value_counts()\n",
    "\n",
    "print(\"\\nTumor Subtype Counts:\")\n",
    "print(subtype_counts)\n",
    "\n",
    "# Determine if there's an imbalance\n",
    "if len(subtype_counts) == 2:  # Ensure we have both classes present\n",
    "    classical_count = subtype_counts.get(1, 0)\n",
    "    basal_count = subtype_counts.get(2, 0)\n",
    "    \n",
    "    print(f\"\\nClassical Tumor Count: {classical_count}\")\n",
    "    print(f\"Basal Tumor Count: {basal_count}\")\n",
    "    \n",
    "    if classical_count != basal_count:\n",
    "        print(\"\\nThere is a data imbalance between the classical and basal tumor types.\")\n",
    "    else:\n",
    "        print(\"\\nThe dataset is balanced for the tumor subtypes.\")\n",
    "else:\n",
    "    print(\"\\nOne or more classes are missing in the dataset.\")"
   ]
  },
  {
   "cell_type": "code",
   "execution_count": 5,
   "metadata": {},
   "outputs": [],
   "source": [
    "filtered_gene_expression = gene_expression.loc[gene_signatures].T\n",
    "filtered_gene_expression.index.name = 'geo_accession'\n",
    "merged_data = metadata.merge(filtered_gene_expression, left_on='geo_accession', right_index=True)\n",
    "\n",
    "X = merged_data[gene_signatures]\n",
    "y = merged_data['tumor_subtype_0na_1classical_2basal:ch2']\n",
    "#X_train, X_test, y_train, y_test = train_test_split(X, y, test_size=0.2, random_state=42, stratify=y)\n",
    "# Initial train-test split: 80% train (to be split again) and 20% test\n",
    "X_train_full, X_test, y_train_full, y_test = train_test_split(X, y, test_size=0.2, random_state=42, stratify=y)\n",
    "\n",
    "# Further split the training set into training and validation sets: 75% train, 25% validation\n",
    "X_train, X_val, y_train, y_val = train_test_split(X_train_full, y_train_full, test_size=0.25, random_state=42, stratify=y_train_full)"
   ]
  },
  {
   "cell_type": "markdown",
   "metadata": {},
   "source": [
    "# Train model 1- Random forest"
   ]
  },
  {
   "cell_type": "code",
   "execution_count": 6,
   "metadata": {},
   "outputs": [
    {
     "data": {
      "text/plain": [
       "RandomForestClassifier(class_weight='balanced', random_state=42)"
      ]
     },
     "execution_count": 6,
     "metadata": {},
     "output_type": "execute_result"
    }
   ],
   "source": [
    "rf_model_cv = RandomForestClassifier(random_state=42, n_estimators=100, class_weight='balanced')\n",
    "\n",
    "# Initially, use the train-validation split \n",
    "rf_model_cv.fit(X_train, y_train)"
   ]
  },
  {
   "cell_type": "code",
   "execution_count": 7,
   "metadata": {},
   "outputs": [
    {
     "name": "stdout",
     "output_type": "stream",
     "text": [
      "Random Forest Initial Validation Set Accuracy: 0.83\n"
     ]
    }
   ],
   "source": [
    "# Evaluate on validation set\n",
    "val_accuracy_rf = rf_model_cv.score(X_val, y_val)\n",
    "print(\"Random Forest Initial Validation Set Accuracy: %0.2f\" % val_accuracy_rf)"
   ]
  },
  {
   "cell_type": "code",
   "execution_count": 8,
   "metadata": {},
   "outputs": [
    {
     "name": "stdout",
     "output_type": "stream",
     "text": [
      "Fitting 5 folds for each of 108 candidates, totalling 540 fits\n"
     ]
    },
    {
     "data": {
      "text/plain": [
       "GridSearchCV(cv=StratifiedKFold(n_splits=5, random_state=None, shuffle=False),\n",
       "             estimator=RandomForestClassifier(class_weight='balanced',\n",
       "                                              random_state=42),\n",
       "             n_jobs=-1,\n",
       "             param_grid={'max_depth': [None, 10, 20, 30],\n",
       "                         'min_samples_leaf': [1, 2, 4],\n",
       "                         'min_samples_split': [2, 5, 10],\n",
       "                         'n_estimators': [100, 200, 300]},\n",
       "             scoring='accuracy', verbose=2)"
      ]
     },
     "execution_count": 8,
     "metadata": {},
     "output_type": "execute_result"
    }
   ],
   "source": [
    "# Hyperparameter Tuning with GridSearchCV using Validation Set\n",
    "param_grid = {\n",
    "    'n_estimators': [100, 200, 300],\n",
    "    'max_depth': [None, 10, 20, 30],\n",
    "    'min_samples_split': [2, 5, 10],\n",
    "    'min_samples_leaf': [1, 2, 4]\n",
    "}\n",
    "\n",
    "grid_search = GridSearchCV(estimator=rf_model_cv, param_grid=param_grid, cv=StratifiedKFold(n_splits=5), \n",
    "                           n_jobs=-1, verbose=2, scoring='accuracy')\n",
    "grid_search.fit(X_train, y_train)"
   ]
  },
  {
   "cell_type": "code",
   "execution_count": 9,
   "metadata": {},
   "outputs": [
    {
     "name": "stdout",
     "output_type": "stream",
     "text": [
      "Random Forest Tuned Validation Set Accuracy: 0.86\n",
      "Random Forest Test Set Accuracy: 0.97\n"
     ]
    }
   ],
   "source": [
    "# Evaluate on validation set after tuning\n",
    "best_rf_model = grid_search.best_estimator_\n",
    "val_accuracy_rf_tuned = best_rf_model.score(X_val, y_val)\n",
    "print(\"Random Forest Tuned Validation Set Accuracy: %0.2f\" % val_accuracy_rf_tuned)\n",
    "\n",
    "# Final evaluation on test set\n",
    "test_accuracy_rf = best_rf_model.score(X_test, y_test)\n",
    "print(\"Random Forest Test Set Accuracy: %0.2f\" % test_accuracy_rf)"
   ]
  },
  {
   "cell_type": "code",
   "execution_count": 10,
   "metadata": {},
   "outputs": [
    {
     "name": "stdout",
     "output_type": "stream",
     "text": [
      "Random Forest Tuned Validation Set Accuracy: 0.86\n",
      "Classification Report for Random Forest on Validation Set:\n",
      "              precision    recall  f1-score   support\n",
      "\n",
      "           1       0.83      1.00      0.91        20\n",
      "           2       1.00      0.56      0.71         9\n",
      "\n",
      "    accuracy                           0.86        29\n",
      "   macro avg       0.92      0.78      0.81        29\n",
      "weighted avg       0.89      0.86      0.85        29\n",
      "\n",
      "Random Forest Test Set Accuracy: 0.97\n",
      "Classification Report for Random Forest on Test Set:\n",
      "              precision    recall  f1-score   support\n",
      "\n",
      "           1       0.95      1.00      0.98        21\n",
      "           2       1.00      0.88      0.93         8\n",
      "\n",
      "    accuracy                           0.97        29\n",
      "   macro avg       0.98      0.94      0.96        29\n",
      "weighted avg       0.97      0.97      0.96        29\n",
      "\n"
     ]
    }
   ],
   "source": [
    "# Train Random Forest on training data\n",
    "rf_model = RandomForestClassifier(**grid_search.best_params_, random_state=42, class_weight='balanced')\n",
    "rf_model.fit(X_train, y_train)\n",
    "\n",
    "# Predict and evaluate on validation set\n",
    "y_val_pred_rf = rf_model.predict(X_val)\n",
    "val_accuracy_rf_tuned = accuracy_score(y_val, y_val_pred_rf)\n",
    "print(\"Random Forest Tuned Validation Set Accuracy: %0.2f\" % val_accuracy_rf_tuned)\n",
    "\n",
    "# Print classification report for validation set\n",
    "print(\"Classification Report for Random Forest on Validation Set:\")\n",
    "print(classification_report(y_val, y_val_pred_rf))\n",
    "\n",
    "# Final evaluation on the test set\n",
    "y_test_pred_rf = rf_model.predict(X_test)\n",
    "test_accuracy_rf = accuracy_score(y_test, y_test_pred_rf)\n",
    "print(\"Random Forest Test Set Accuracy: %0.2f\" % test_accuracy_rf)\n",
    "\n",
    "# Print classification report for test set\n",
    "print(\"Classification Report for Random Forest on Test Set:\")\n",
    "print(classification_report(y_test, y_test_pred_rf))\n",
    "\n",
    "# Repeat similar steps for SVM or other models\n"
   ]
  },
  {
   "cell_type": "markdown",
   "metadata": {},
   "source": [
    "## Train model 2- Random forest with selected features"
   ]
  },
  {
   "cell_type": "code",
   "execution_count": 11,
   "metadata": {},
   "outputs": [
    {
     "name": "stdout",
     "output_type": "stream",
     "text": [
      "Feature Importances: [0.01174757 0.00749463 0.03153437 0.00453815 0.00334629 0.00356263\n",
      " 0.00531018 0.02444429 0.0280818  0.0146742  0.00370503 0.01525912\n",
      " 0.03194778 0.01206135 0.00871578 0.03243144 0.00306668 0.00246905\n",
      " 0.02654579 0.00324324 0.01328907 0.02388551 0.00720166 0.00627059\n",
      " 0.01819283 0.00600961 0.00343279 0.0500614  0.00503511 0.003032\n",
      " 0.02139349 0.00549962 0.01725898 0.00688847 0.00601667 0.01836762\n",
      " 0.01212754 0.01625534 0.03918005 0.04086486 0.01981843 0.14624806\n",
      " 0.0721886  0.00443066 0.00869171 0.00643325 0.08903166 0.00518174\n",
      " 0.01513851 0.03839479]\n"
     ]
    }
   ],
   "source": [
    "# Train Random Forest for feature importance\n",
    "rf = RandomForestClassifier(random_state=42, n_estimators=100)\n",
    "rf.fit(X_train, y_train)\n",
    "\n",
    "# Extract feature importances\n",
    "feature_importances = rf.feature_importances_\n",
    "print(\"Feature Importances:\", feature_importances)"
   ]
  },
  {
   "cell_type": "code",
   "execution_count": 12,
   "metadata": {},
   "outputs": [
    {
     "name": "stdout",
     "output_type": "stream",
     "text": [
      "Selected Features (by index): [37 32 24 35 40 30 21  7 18  8  2 12 15 49 38 39 27 42 46 41]\n"
     ]
    }
   ],
   "source": [
    "# Select the top 'n' important features\n",
    "n = 20  \n",
    "indices_of_important_features = np.argsort(feature_importances)[-n:]\n",
    "\n",
    "# Reduce the training and test sets to only the important features\n",
    "X_train_rf_top = X_train.iloc[:, indices_of_important_features]\n",
    "X_test_rf_top = X_test.iloc[:, indices_of_important_features]\n",
    "X_val_rf_top = X_val.iloc[:, indices_of_important_features]\n",
    "\n",
    "# Print selected features if feature names are available\n",
    "print(\"Selected Features (by index):\", indices_of_important_features)"
   ]
  },
  {
   "cell_type": "code",
   "execution_count": 13,
   "metadata": {},
   "outputs": [
    {
     "name": "stdout",
     "output_type": "stream",
     "text": [
      "Random Forest Initial Validation Set Accuracy: 0.83\n"
     ]
    }
   ],
   "source": [
    "rf_model_cv = RandomForestClassifier(random_state=42, n_estimators=100, class_weight='balanced')\n",
    "rf_model_cv.fit(X_train_rf_top, y_train)\n",
    "\n",
    "# Evaluate on validation set\n",
    "val_accuracy_rf = rf_model_cv.score(X_val_rf_top, y_val)\n",
    "print(\"Random Forest Initial Validation Set Accuracy: %0.2f\" % val_accuracy_rf)\n"
   ]
  },
  {
   "cell_type": "code",
   "execution_count": 19,
   "metadata": {},
   "outputs": [
    {
     "name": "stdout",
     "output_type": "stream",
     "text": [
      "Fitting 5 folds for each of 108 candidates, totalling 540 fits\n",
      "Best Parameters for Random Forest: {'max_depth': None, 'min_samples_leaf': 2, 'min_samples_split': 5, 'n_estimators': 100}\n"
     ]
    }
   ],
   "source": [
    "# Hyperparameter tuning with GridSearchCV using Validation Set\n",
    "param_grid = {\n",
    "    'n_estimators': [100, 200, 300],\n",
    "    'max_depth': [None, 10, 20, 30],\n",
    "    'min_samples_split': [2, 5, 10],\n",
    "    'min_samples_leaf': [1, 2, 4]\n",
    "}\n",
    "\n",
    "grid_search = GridSearchCV(estimator=rf_model_cv, param_grid=param_grid, cv=StratifiedKFold(n_splits=5), \n",
    "                           n_jobs=-1, verbose=2, scoring='accuracy')\n",
    "grid_search.fit(X_train_rf_top, y_train)\n",
    "\n",
    "# Best parameters from Grid Search\n",
    "best_params_rf = grid_search.best_params_\n",
    "print(\"Best Parameters for Random Forest:\", best_params_rf)"
   ]
  },
  {
   "cell_type": "code",
   "execution_count": 20,
   "metadata": {},
   "outputs": [
    {
     "name": "stdout",
     "output_type": "stream",
     "text": [
      "Random Forest Tuned Validation Set Accuracy: 0.90\n"
     ]
    }
   ],
   "source": [
    "# Evaluate on validation set after tuning\n",
    "best_rf_model = grid_search.best_estimator_\n",
    "val_accuracy_rf_tuned = best_rf_model.score(X_val_rf_top, y_val)\n",
    "print(\"Random Forest Tuned Validation Set Accuracy: %0.2f\" % val_accuracy_rf_tuned)\n"
   ]
  },
  {
   "cell_type": "code",
   "execution_count": 21,
   "metadata": {},
   "outputs": [
    {
     "name": "stdout",
     "output_type": "stream",
     "text": [
      "Random Forest Test Set Accuracy: 0.90\n"
     ]
    }
   ],
   "source": [
    "# Final evaluation on test set\n",
    "test_accuracy_rf = best_rf_model.score(X_test_rf_top, y_test)\n",
    "print(\"Random Forest Test Set Accuracy: %0.2f\" % test_accuracy_rf)\n"
   ]
  },
  {
   "cell_type": "code",
   "execution_count": 22,
   "metadata": {},
   "outputs": [
    {
     "name": "stdout",
     "output_type": "stream",
     "text": [
      "Optimized Random Forest with Important Features Report\n",
      "              precision    recall  f1-score   support\n",
      "\n",
      "           1       0.91      0.95      0.93        21\n",
      "           2       0.86      0.75      0.80         8\n",
      "\n",
      "    accuracy                           0.90        29\n",
      "   macro avg       0.88      0.85      0.87        29\n",
      "weighted avg       0.89      0.90      0.89        29\n",
      "\n"
     ]
    }
   ],
   "source": [
    "# Make predictions and evaluate the optimized Random Forest model\n",
    "pred_rf_top = best_rf_model.predict(X_test_rf_top)\n",
    "\n",
    "# Print classification report for the test set\n",
    "print(\"Optimized Random Forest with Important Features Report\")\n",
    "print(classification_report(y_test, pred_rf_top))"
   ]
  },
  {
   "cell_type": "code",
   "execution_count": 23,
   "metadata": {},
   "outputs": [
    {
     "name": "stdout",
     "output_type": "stream",
     "text": [
      "Random Forest Accuracy (All Features): 0.97\n",
      "Random Forest Accuracy (Selected Features): 0.90\n"
     ]
    },
    {
     "data": {
      "image/png": "[encoded data removed]",
      "text/plain": [
       "<Figure size 600x400 with 1 Axes>"
      ]
     },
     "metadata": {},
     "output_type": "display_data"
    }
   ],
   "source": [
    "# Compare accuracies before and after feature selection\n",
    "rf_accuracy = accuracy_score(y_test, y_test_pred_rf)\n",
    "rf_top_accuracy = accuracy_score(y_test, pred_rf_top)\n",
    "\n",
    "print(f\"Random Forest Accuracy (All Features): {rf_accuracy:.2f}\")\n",
    "print(f\"Random Forest Accuracy (Selected Features): {rf_top_accuracy:.2f}\")\n",
    "\n",
    "# Visualize comparison\n",
    "metrics = {\n",
    "    'Model': ['Random Forest', 'RF with Selected Features'],\n",
    "    'Accuracy': [rf_accuracy, rf_top_accuracy]\n",
    "}\n",
    "metrics_df = pd.DataFrame(metrics)\n",
    "\n",
    "plt.figure(figsize=(6, 4))\n",
    "sns.barplot(x='Model', y='Accuracy', data=metrics_df)\n",
    "plt.title('Model Accuracy Comparison Before and After Feature Selection')\n",
    "plt.ylim(0, 1)\n",
    "plt.show()"
   ]
  },
  {
   "cell_type": "markdown",
   "metadata": {},
   "source": [
    "# Train model 3- SVM"
   ]
  },
  {
   "cell_type": "code",
   "execution_count": 24,
   "metadata": {},
   "outputs": [
    {
     "data": {
      "text/plain": [
       "SVC(kernel='linear', probability=True, random_state=42)"
      ]
     },
     "execution_count": 24,
     "metadata": {},
     "output_type": "execute_result"
    }
   ],
   "source": [
    "# Initialize the SVM Model\n",
    "svm_model = SVC(kernel='linear', probability=True, random_state=42)\n",
    "\n",
    "# Train on the initial training set\n",
    "svm_model.fit(X_train, y_train)"
   ]
  },
  {
   "cell_type": "code",
   "execution_count": 25,
   "metadata": {},
   "outputs": [
    {
     "name": "stdout",
     "output_type": "stream",
     "text": [
      "SVM Initial Validation Set Accuracy: 0.97\n"
     ]
    }
   ],
   "source": [
    "# Evaluate on the validation set\n",
    "val_accuracy_svm = svm_model.score(X_val, y_val)\n",
    "print(\"SVM Initial Validation Set Accuracy: %0.2f\" % val_accuracy_svm)\n"
   ]
  },
  {
   "cell_type": "code",
   "execution_count": 31,
   "metadata": {},
   "outputs": [
    {
     "name": "stdout",
     "output_type": "stream",
     "text": [
      "Fitting 5 folds for each of 6 candidates, totalling 30 fits\n",
      "Best Parameters for Random Forest: {'C': 0.1, 'class_weight': 'balanced', 'kernel': 'linear'}\n"
     ]
    }
   ],
   "source": [
    "# Define parameter grid for SVM including class_weight\n",
    "svm_param_grid = {\n",
    "    'C': [0.1, 1, 10],\n",
    "    'kernel': ['linear', 'rbf'],\n",
    "    'class_weight': ['balanced']\n",
    "}\n",
    "\n",
    "# Choose a metric that handles imbalance better, e.g., 'f1' or 'roc_auc'\n",
    "svm_grid_search = GridSearchCV(SVC(probability=True, random_state=42), param_grid=svm_param_grid, \n",
    "                               cv=StratifiedKFold(n_splits=5), scoring='f1', n_jobs=-1, verbose=2)\n",
    "\n",
    "# Fit the grid search object\n",
    "svm_grid_search.fit(X_train, y_train)\n",
    "\n",
    "# Get the best model\n",
    "best_svm_model = svm_grid_search.best_estimator_\n",
    "\n",
    "# Best parameters from Grid Search\n",
    "best_params_svm = svm_grid_search.best_params_\n",
    "print(\"Best Parameters for Random Forest:\", best_params_svm)"
   ]
  },
  {
   "cell_type": "code",
   "execution_count": 32,
   "metadata": {},
   "outputs": [
    {
     "name": "stdout",
     "output_type": "stream",
     "text": [
      "SVM Tuned Validation Set Accuracy: 0.97\n",
      "SVM Test Set Accuracy: 1.00\n"
     ]
    }
   ],
   "source": [
    "# Evaluate on validation set after tuning\n",
    "val_accuracy_svm_tuned = best_svm_model.score(X_val, y_val)\n",
    "print(\"SVM Tuned Validation Set Accuracy: %0.2f\" % val_accuracy_svm_tuned)\n",
    "\n",
    "# Evaluate the optimized model on the test set\n",
    "test_accuracy_svm = best_svm_model.score(X_test, y_test)\n",
    "print(\"SVM Test Set Accuracy: %0.2f\" % test_accuracy_svm)\n"
   ]
  },
  {
   "cell_type": "code",
   "execution_count": 33,
   "metadata": {},
   "outputs": [
    {
     "name": "stdout",
     "output_type": "stream",
     "text": [
      "Optimized SVM Performance:\n",
      "Accuracy: 1.0\n",
      "              precision    recall  f1-score   support\n",
      "\n",
      "           1       1.00      1.00      1.00        21\n",
      "           2       1.00      1.00      1.00         8\n",
      "\n",
      "    accuracy                           1.00        29\n",
      "   macro avg       1.00      1.00      1.00        29\n",
      "weighted avg       1.00      1.00      1.00        29\n",
      "\n"
     ]
    }
   ],
   "source": [
    "# Make predictions and evaluate the optimized SVM model\n",
    "y_pred_svm = best_svm_model.predict(X_test)\n",
    "\n",
    "# Print classification report for the test set\n",
    "print(\"Optimized SVM Performance:\")\n",
    "print(\"Accuracy:\", accuracy_score(y_test, y_pred_svm))\n",
    "print(classification_report(y_test, y_pred_svm))"
   ]
  },
  {
   "cell_type": "markdown",
   "metadata": {},
   "source": [
    "## Train model 4- SVM with selected features"
   ]
  },
  {
   "cell_type": "code",
   "execution_count": 34,
   "metadata": {},
   "outputs": [
    {
     "name": "stdout",
     "output_type": "stream",
     "text": [
      "Selected Features: [False  True  True False False False  True  True False False  True False\n",
      "  True False  True  True  True False False False False False False False\n",
      "  True False False False False False  True  True  True False False  True\n",
      " False False  True  True  True  True  True False False False  True False\n",
      " False False]\n"
     ]
    }
   ],
   "source": [
    "# Step 1: Select Top Features with RFE\n",
    "svc = SVC(kernel=\"linear\", random_state=42)\n",
    "rfe = RFE(estimator=svc, n_features_to_select=20, step=1)\n",
    "\n",
    "# Fit RFE on the training set\n",
    "X_train_top_svm = rfe.fit_transform(X_train, y_train)\n",
    "\n",
    "# Apply transformation to the validation and test sets\n",
    "X_val_top_svm = rfe.transform(X_val)\n",
    "X_test_top_svm = rfe.transform(X_test)\n",
    "\n",
    "# Optional: Check which features were selected\n",
    "selected_features = rfe.support_\n",
    "print(\"Selected Features:\", selected_features)"
   ]
  },
  {
   "cell_type": "code",
   "execution_count": 35,
   "metadata": {},
   "outputs": [
    {
     "name": "stdout",
     "output_type": "stream",
     "text": [
      "Fitting 5 folds for each of 3 candidates, totalling 15 fits\n",
      "Best Parameters for SVM with Selected Features: {'C': 0.1, 'class_weight': 'balanced', 'kernel': 'linear'}\n"
     ]
    }
   ],
   "source": [
    "# Step 2: Hyperparameter Tuning with GridSearchCV using Validation Set\n",
    "svm_param_grid = {\n",
    "    'C': [0.1, 1, 10],  # Regularization parameter\n",
    "    'kernel': ['linear'],  # Using linear kernel\n",
    "    'class_weight': ['balanced']  # To handle class imbalance\n",
    "}\n",
    "\n",
    "grid_search_svm = GridSearchCV(SVC(random_state=42), svm_param_grid, cv=StratifiedKFold(n_splits=5), \n",
    "                               scoring='accuracy', n_jobs=-1, verbose=2)\n",
    "\n",
    "grid_search_svm.fit(X_train_top_svm, y_train)\n",
    "\n",
    "# Best parameters from Grid Search\n",
    "best_params = grid_search_svm.best_params_\n",
    "print(\"Best Parameters for SVM with Selected Features:\", best_params)"
   ]
  },
  {
   "cell_type": "code",
   "execution_count": 36,
   "metadata": {},
   "outputs": [
    {
     "name": "stdout",
     "output_type": "stream",
     "text": [
      "SVM Validation Set Accuracy with Selected Features: 0.97\n",
      "SVM Test Set Accuracy with Selected Features: 1.00\n",
      "SVM with Top Features Report\n",
      "              precision    recall  f1-score   support\n",
      "\n",
      "           1       1.00      1.00      1.00        21\n",
      "           2       1.00      1.00      1.00         8\n",
      "\n",
      "    accuracy                           1.00        29\n",
      "   macro avg       1.00      1.00      1.00        29\n",
      "weighted avg       1.00      1.00      1.00        29\n",
      "\n"
     ]
    }
   ],
   "source": [
    "# Step 3: Evaluation on Validation Set\n",
    "# Train the SVM model with selected features using the best parameters\n",
    "svm_model_top = SVC(**best_params, random_state=42)\n",
    "svm_model_top.fit(X_train_top_svm, y_train)\n",
    "\n",
    "# Evaluate on validation set\n",
    "val_accuracy_svm_top = svm_model_top.score(X_val_top_svm, y_val)\n",
    "print(\"SVM Validation Set Accuracy with Selected Features: %0.2f\" % val_accuracy_svm_top)\n",
    "\n",
    "# Step 4: Final Test Set Evaluation\n",
    "# Make predictions and evaluate the optimized SVM model\n",
    "pred_svm_top = svm_model_top.predict(X_test_top_svm)\n",
    "test_accuracy_svm_top = accuracy_score(y_test, pred_svm_top)\n",
    "print(\"SVM Test Set Accuracy with Selected Features: %0.2f\" % test_accuracy_svm_top)\n",
    "\n",
    "print(\"SVM with Top Features Report\")\n",
    "print(classification_report(y_test, pred_svm_top))"
   ]
  },
  {
   "cell_type": "markdown",
   "metadata": {},
   "source": [
    "## Accuracy score of training and testing dataset"
   ]
  },
  {
   "cell_type": "code",
   "execution_count": 38,
   "metadata": {},
   "outputs": [
    {
     "name": "stdout",
     "output_type": "stream",
     "text": [
      "Training Set Accuracy RF: 1.00\n",
      "Validation Set Accuracy RF: 0.86\n",
      "Testing Set Accuracy RF: 0.97\n"
     ]
    }
   ],
   "source": [
    "# Predicting on the training set\n",
    "y_train_pred = rf_model.predict(X_train)\n",
    "\n",
    "# Predicting on the validation set\n",
    "y_val_pred = rf_model.predict(X_val)\n",
    "\n",
    "# Predicting on the testing set\n",
    "y_test_pred = rf_model.predict(X_test)\n",
    "\n",
    "# Calculating accuracy for both sets\n",
    "train_accuracy = accuracy_score(y_train, y_train_pred)\n",
    "val_accuracy = accuracy_score(y_val, y_val_pred)\n",
    "test_accuracy = accuracy_score(y_test, y_test_pred)\n",
    "\n",
    "# Printing the accuracies\n",
    "print(f\"Training Set Accuracy RF: {train_accuracy:.2f}\")\n",
    "print(f\"Validation Set Accuracy RF: {val_accuracy:.2f}\")\n",
    "print(f\"Testing Set Accuracy RF: {test_accuracy:.2f}\")\n"
   ]
  },
  {
   "cell_type": "code",
   "execution_count": 39,
   "metadata": {},
   "outputs": [
    {
     "name": "stdout",
     "output_type": "stream",
     "text": [
      "Training Set Accuracy RF-selected features: 1.00\n",
      "Validation Set Accuracy RF-selected features: 0.90\n",
      "Testing Set Accuracy RF- selected features: 0.90\n"
     ]
    }
   ],
   "source": [
    "# Predicting on the training set\n",
    "y_train_pred = best_rf_model.predict(X_train_rf_top)\n",
    "\n",
    "# Predicting on the validation set\n",
    "y_val_pred = best_rf_model.predict(X_val_rf_top)\n",
    "\n",
    "# Predicting on the testing set\n",
    "y_test_pred = best_rf_model.predict(X_test_rf_top)\n",
    "\n",
    "# Calculating accuracy for both sets\n",
    "train_accuracy = accuracy_score(y_train, y_train_pred)\n",
    "val_accuracy = accuracy_score(y_val, y_val_pred)\n",
    "test_accuracy = accuracy_score(y_test, y_test_pred)\n",
    "\n",
    "# Printing the accuracies\n",
    "print(f\"Training Set Accuracy RF-selected features: {train_accuracy:.2f}\")\n",
    "print(f\"Validation Set Accuracy RF-selected features: {val_accuracy:.2f}\")\n",
    "print(f\"Testing Set Accuracy RF- selected features: {test_accuracy:.2f}\")"
   ]
  },
  {
   "cell_type": "code",
   "execution_count": 40,
   "metadata": {},
   "outputs": [
    {
     "name": "stdout",
     "output_type": "stream",
     "text": [
      "Training Set Accuracy SVM: 1.00\n",
      "Validation Set Accuracy RF: 0.97\n",
      "Testing Set Accuracy SVM: 1.00\n"
     ]
    }
   ],
   "source": [
    "# Predicting on the training set\n",
    "y_train_pred = svm_model.predict(X_train)\n",
    "\n",
    "# Predicting on the validation set\n",
    "y_val_pred = svm_model.predict(X_val)\n",
    "\n",
    "# Predicting on the testing set\n",
    "y_test_pred = svm_model.predict(X_test)\n",
    "\n",
    "# Calculating accuracy for both sets\n",
    "train_accuracy = accuracy_score(y_train, y_train_pred)\n",
    "val_accuracy = accuracy_score(y_val, y_val_pred)\n",
    "test_accuracy = accuracy_score(y_test, y_test_pred)\n",
    "\n",
    "# Printing the accuracies\n",
    "print(f\"Training Set Accuracy SVM: {train_accuracy:.2f}\")\n",
    "print(f\"Validation Set Accuracy RF: {val_accuracy:.2f}\")\n",
    "print(f\"Testing Set Accuracy SVM: {test_accuracy:.2f}\")"
   ]
  },
  {
   "cell_type": "code",
   "execution_count": 44,
   "metadata": {},
   "outputs": [
    {
     "name": "stdout",
     "output_type": "stream",
     "text": [
      "Training Set Accuracy SVM-selected features: 1.00\n",
      "Validation Set Accuracy SVM-selected features: 0.97\n",
      "Testing Set Accuracy SVM-selected features: 1.00\n"
     ]
    }
   ],
   "source": [
    "# Predicting on the training set\n",
    "y_train_pred = svm_model_top.predict(X_train_top_svm)\n",
    "\n",
    "# Predicting on the validation set\n",
    "y_val_pred = svm_model_top.predict(X_val_top_svm)\n",
    "\n",
    "# Predicting on the testing set\n",
    "y_test_pred = svm_model_top.predict(X_test_top_svm)\n",
    "\n",
    "# Calculating accuracy for both sets\n",
    "train_accuracy = accuracy_score(y_train, y_train_pred)\n",
    "val_accuracy = accuracy_score(y_val, y_val_pred)\n",
    "test_accuracy = accuracy_score(y_test, y_test_pred)\n",
    "\n",
    "# Printing the accuracies\n",
    "print(f\"Training Set Accuracy SVM-selected features: {train_accuracy:.2f}\")\n",
    "print(f\"Validation Set Accuracy SVM-selected features: {val_accuracy:.2f}\")\n",
    "print(f\"Testing Set Accuracy SVM-selected features: {test_accuracy:.2f}\")"
   ]
  },
  {
   "cell_type": "markdown",
   "metadata": {},
   "source": [
    "# Compare metrics"
   ]
  },
  {
   "cell_type": "code",
   "execution_count": 45,
   "metadata": {},
   "outputs": [
    {
     "data": {
      "image/png": "[encoded data removed]",
      "text/plain": [
       "<Figure size 640x480 with 2 Axes>"
      ]
     },
     "metadata": {},
     "output_type": "display_data"
    },
    {
     "data": {
      "image/png": "[encoded data removed]",
      "text/plain": [
       "<Figure size 640x480 with 2 Axes>"
      ]
     },
     "metadata": {},
     "output_type": "display_data"
    },
    {
     "data": {
      "image/png": "[encoded data removed]",
      "text/plain": [
       "<Figure size 640x480 with 2 Axes>"
      ]
     },
     "metadata": {},
     "output_type": "display_data"
    },
    {
     "data": {
      "image/png": "[encoded data removed]",
      "text/plain": [
       "<Figure size 640x480 with 2 Axes>"
      ]
     },
     "metadata": {},
     "output_type": "display_data"
    }
   ],
   "source": [
    "ConfusionMatrixDisplay.from_estimator(rf_model, X_test, y_test).ax_.set_title('Random Forest Confusion Matrix')\n",
    "plt.show()\n",
    "\n",
    "ConfusionMatrixDisplay.from_estimator(best_rf_model, X_test_rf_top, y_test).ax_.set_title('Random Forest- Important features Confusion Matrix')\n",
    "plt.show()\n",
    "\n",
    "\n",
    "ConfusionMatrixDisplay.from_estimator(svm_model, X_test, y_test).ax_.set_title('SVM Confusion Matrix')\n",
    "plt.show()\n",
    "\n",
    "ConfusionMatrixDisplay.from_estimator(svm_model_top, X_test_top_svm, y_test).ax_.set_title('SVM- Important features Confusion Matrix')\n",
    "plt.show()"
   ]
  },
  {
   "cell_type": "markdown",
   "metadata": {},
   "source": [
    "# compare metrics"
   ]
  },
  {
   "cell_type": "code",
   "execution_count": 46,
   "metadata": {},
   "outputs": [
    {
     "name": "stdout",
     "output_type": "stream",
     "text": [
      "Random Forest Accuracy: 0.97\n",
      "Random Forest with Selected Features Accuracy: 0.90\n",
      "SVM Accuracy: 1.00\n",
      "SVM with Selected Features Accuracy: 1.00\n"
     ]
    },
    {
     "data": {
      "image/png": "[encoded data removed]",
      "text/plain": [
       "<Figure size 800x500 with 1 Axes>"
      ]
     },
     "metadata": {},
     "output_type": "display_data"
    }
   ],
   "source": [
    "# Compare accuracy\n",
    "rf_accuracy = accuracy_score(y_test, y_test_pred_rf)\n",
    "rf_top_accuracy = accuracy_score(y_test, pred_rf_top)\n",
    "svm_accuracy = accuracy_score(y_test, y_pred_svm)\n",
    "svm_top_accuracy = accuracy_score(y_test, pred_svm_top)\n",
    "\n",
    "print(f\"Random Forest Accuracy: {rf_accuracy:.2f}\")\n",
    "print(f\"Random Forest with Selected Features Accuracy: {rf_top_accuracy:.2f}\")\n",
    "print(f\"SVM Accuracy: {svm_accuracy:.2f}\")\n",
    "print(f\"SVM with Selected Features Accuracy: {svm_top_accuracy:.2f}\")\n",
    "\n",
    "# Visualize model comparison\n",
    "metrics = {'Model': ['Random Forest', 'RF Selected Features', 'SVM', 'SVM Selected Features'], 'Accuracy': [rf_accuracy, rf_top_accuracy, svm_accuracy, svm_top_accuracy]}\n",
    "metrics_df = pd.DataFrame(metrics)\n",
    "\n",
    "plt.figure(figsize=(8, 5))\n",
    "sns.barplot(x='Model', y='Accuracy', data=metrics_df)\n",
    "plt.title('Model Accuracy Comparison')\n",
    "plt.ylim(0, 1)\n",
    "plt.show()\n"
   ]
  }
 ],
 "metadata": {
  "kernelspec": {
   "display_name": "base",
   "language": "python",
   "name": "python3"
  },
  "language_info": {
   "codemirror_mode": {
    "name": "ipython",
    "version": 3
   },
   "file_extension": ".py",
   "mimetype": "text/x-python",
   "name": "python",
   "nbconvert_exporter": "python",
   "pygments_lexer": "ipython3",
   "version": "3.9.13"
  }
 },
 "nbformat": 4,
 "nbformat_minor": 2
}
